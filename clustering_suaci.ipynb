{
 "cells": [
  {
   "cell_type": "markdown",
   "metadata": {},
   "source": [
    "# Cluster AI 2019 - Grupo 7"
   ]
  },
  {
   "cell_type": "markdown",
   "metadata": {},
   "source": [
    "## Trabajo práctico integrador -  SUACI"
   ]
  },
  {
   "cell_type": "markdown",
   "metadata": {},
   "source": [
    "**Etapa 02: Clustering** "
   ]
  },
  {
   "cell_type": "code",
   "execution_count": 1,
   "metadata": {},
   "outputs": [],
   "source": [
    "# importamos librerías básicas\n",
    "import numpy as np\n",
    "import pandas as pd\n",
    "import matplotlib.pyplot as plt\n",
    "import seaborn as sns\n",
    "import timeit\n",
    "import warnings\n",
    "warnings.filterwarnings('ignore')"
   ]
  },
  {
   "cell_type": "code",
   "execution_count": 2,
   "metadata": {},
   "outputs": [],
   "source": [
    "# importamos librerias de clustering\n",
    "from sklearn.cluster import KMeans\n",
    "from scipy.cluster.hierarchy import dendrogram, linkage \n",
    "from sklearn.cluster import AgglomerativeClustering\n",
    "from sklearn.metrics import silhouette_score\n",
    "from sklearn import preprocessing"
   ]
  },
  {
   "cell_type": "code",
   "execution_count": 3,
   "metadata": {},
   "outputs": [],
   "source": [
    "# importamos el dataset del año 2019\n",
    "base2019 = pd.read_csv('/Users/fer/Downloads/DATASCIENCE/CLUSTER AI/GRUPO TP/SUACI/sistema-unico-de-atencion-ciudadana-2019.csv', delimiter=',', header = 0, index_col = \"contacto\")"
   ]
  },
  {
   "cell_type": "markdown",
   "metadata": {},
   "source": [
    "Para el ejercicio de clusterización nos proponemos trabajar en la identificación de zonas en la Ciudad Autónoma de Buenos Aires con problemáticas similares, definidas las mismas a partir de los contactos realizados al SUACI.\n",
    "Utilizamos a este efecto la variable \"concepto\" que aporta la categorización más descriptiva del tipo de contacto, siendo las variables \"subcategoría\" y \"categoría\" agrupaciones de esta.\n",
    "A efectos del problema propuesto no nos interesa el canal a través del cual se realizó el contacto ni el género del denunciante, así como la fecha en que se registró el mismo, en tanto vamos a tomar el horizonte temporal de todos los contactos realizados durante el año calendario 2019.\n",
    "Definimos entonces un nuevo dataset con las variables estrictamente importantes para nuestro ejercicio, comprendidas por:\n",
    "- las variables dummies obtenidas a partir de la variable categórica \"concepto\"\n",
    "- el par latitud-longitud, para que el algoritmo le asigne también un peso a la proximidad geográfica de los contactos a la hora de clusterizar"
   ]
  },
  {
   "cell_type": "code",
   "execution_count": 4,
   "metadata": {},
   "outputs": [
    {
     "data": {
      "text/html": [
       "<div>\n",
       "<style scoped>\n",
       "    .dataframe tbody tr th:only-of-type {\n",
       "        vertical-align: middle;\n",
       "    }\n",
       "\n",
       "    .dataframe tbody tr th {\n",
       "        vertical-align: top;\n",
       "    }\n",
       "\n",
       "    .dataframe thead th {\n",
       "        text-align: right;\n",
       "    }\n",
       "</style>\n",
       "<table border=\"1\" class=\"dataframe\">\n",
       "  <thead>\n",
       "    <tr style=\"text-align: right;\">\n",
       "      <th></th>\n",
       "      <th>ABONOS DE DESCUENTO POR VOLUMEN - SUBTE</th>\n",
       "      <th>ACCESO A LA INFORMACIÓN PÚBLICA</th>\n",
       "      <th>ACCESOS CERRADOS - SUBTE</th>\n",
       "      <th>ACTIVIDAD DE BAILE EFECTUADA SIN PERMISO</th>\n",
       "      <th>ALIMENTOS EN MALAS CONDICIONES</th>\n",
       "      <th>ALMACENAMIENTO DE MATERIALES EN VÍA PÚBLICA</th>\n",
       "      <th>ALTAS - BAJAS TEMPERATURAS - SUBTE</th>\n",
       "      <th>ALTURA ANTIRREGLAMENTARIA EN OBRAS Y CONSTRUCCIONES</th>\n",
       "      <th>ANOMALÍAS EN PUESTO DE DIARIOS</th>\n",
       "      <th>ASCENSORES FUERA DE SERVICIO DURANTE TRÁMITE</th>\n",
       "      <th>...</th>\n",
       "      <th>TERMINALES DE AUTOCONSULTA -SUBTE</th>\n",
       "      <th>TRASCENDENCIA DE CALOR DESDE INSTALACIONES FIJAS COMERCIALES / INDUSTRIALES HACIA INMUEBLES LINDEROS</th>\n",
       "      <th>VACIADO DE CAMPANA VERDE</th>\n",
       "      <th>VEHÍCULO MAL ESTACIONADO</th>\n",
       "      <th>VEHÍCULO OBSTRUYENDO GARAJE</th>\n",
       "      <th>VENTA / EXHIBICIÓN NO PERMITIDA DE BEBIDAS ALCOHÓLICA</th>\n",
       "      <th>VENTA AMBULANTE - SUBTE</th>\n",
       "      <th>VEREDA SUCIA POR MASCOTAS</th>\n",
       "      <th>WIFI - SUBTE</th>\n",
       "      <th>ÁRBOL CON ENFERMEDADES/PLAGAS</th>\n",
       "    </tr>\n",
       "    <tr>\n",
       "      <th>contacto</th>\n",
       "      <th></th>\n",
       "      <th></th>\n",
       "      <th></th>\n",
       "      <th></th>\n",
       "      <th></th>\n",
       "      <th></th>\n",
       "      <th></th>\n",
       "      <th></th>\n",
       "      <th></th>\n",
       "      <th></th>\n",
       "      <th></th>\n",
       "      <th></th>\n",
       "      <th></th>\n",
       "      <th></th>\n",
       "      <th></th>\n",
       "      <th></th>\n",
       "      <th></th>\n",
       "      <th></th>\n",
       "      <th></th>\n",
       "      <th></th>\n",
       "      <th></th>\n",
       "    </tr>\n",
       "  </thead>\n",
       "  <tbody>\n",
       "    <tr>\n",
       "      <th>00000001/19</th>\n",
       "      <td>0</td>\n",
       "      <td>0</td>\n",
       "      <td>0</td>\n",
       "      <td>0</td>\n",
       "      <td>0</td>\n",
       "      <td>0</td>\n",
       "      <td>0</td>\n",
       "      <td>0</td>\n",
       "      <td>0</td>\n",
       "      <td>0</td>\n",
       "      <td>...</td>\n",
       "      <td>0</td>\n",
       "      <td>0</td>\n",
       "      <td>0</td>\n",
       "      <td>1</td>\n",
       "      <td>0</td>\n",
       "      <td>0</td>\n",
       "      <td>0</td>\n",
       "      <td>0</td>\n",
       "      <td>0</td>\n",
       "      <td>0</td>\n",
       "    </tr>\n",
       "    <tr>\n",
       "      <th>00000002/19</th>\n",
       "      <td>0</td>\n",
       "      <td>0</td>\n",
       "      <td>0</td>\n",
       "      <td>0</td>\n",
       "      <td>0</td>\n",
       "      <td>0</td>\n",
       "      <td>0</td>\n",
       "      <td>0</td>\n",
       "      <td>0</td>\n",
       "      <td>0</td>\n",
       "      <td>...</td>\n",
       "      <td>0</td>\n",
       "      <td>0</td>\n",
       "      <td>0</td>\n",
       "      <td>1</td>\n",
       "      <td>0</td>\n",
       "      <td>0</td>\n",
       "      <td>0</td>\n",
       "      <td>0</td>\n",
       "      <td>0</td>\n",
       "      <td>0</td>\n",
       "    </tr>\n",
       "    <tr>\n",
       "      <th>00000003/19</th>\n",
       "      <td>0</td>\n",
       "      <td>0</td>\n",
       "      <td>0</td>\n",
       "      <td>0</td>\n",
       "      <td>0</td>\n",
       "      <td>0</td>\n",
       "      <td>0</td>\n",
       "      <td>0</td>\n",
       "      <td>0</td>\n",
       "      <td>0</td>\n",
       "      <td>...</td>\n",
       "      <td>0</td>\n",
       "      <td>0</td>\n",
       "      <td>0</td>\n",
       "      <td>0</td>\n",
       "      <td>0</td>\n",
       "      <td>0</td>\n",
       "      <td>0</td>\n",
       "      <td>0</td>\n",
       "      <td>0</td>\n",
       "      <td>0</td>\n",
       "    </tr>\n",
       "    <tr>\n",
       "      <th>00000005/19</th>\n",
       "      <td>0</td>\n",
       "      <td>0</td>\n",
       "      <td>0</td>\n",
       "      <td>0</td>\n",
       "      <td>0</td>\n",
       "      <td>0</td>\n",
       "      <td>0</td>\n",
       "      <td>0</td>\n",
       "      <td>0</td>\n",
       "      <td>0</td>\n",
       "      <td>...</td>\n",
       "      <td>0</td>\n",
       "      <td>0</td>\n",
       "      <td>0</td>\n",
       "      <td>1</td>\n",
       "      <td>0</td>\n",
       "      <td>0</td>\n",
       "      <td>0</td>\n",
       "      <td>0</td>\n",
       "      <td>0</td>\n",
       "      <td>0</td>\n",
       "    </tr>\n",
       "    <tr>\n",
       "      <th>00000006/19</th>\n",
       "      <td>0</td>\n",
       "      <td>0</td>\n",
       "      <td>0</td>\n",
       "      <td>0</td>\n",
       "      <td>0</td>\n",
       "      <td>0</td>\n",
       "      <td>0</td>\n",
       "      <td>0</td>\n",
       "      <td>0</td>\n",
       "      <td>0</td>\n",
       "      <td>...</td>\n",
       "      <td>0</td>\n",
       "      <td>0</td>\n",
       "      <td>0</td>\n",
       "      <td>1</td>\n",
       "      <td>0</td>\n",
       "      <td>0</td>\n",
       "      <td>0</td>\n",
       "      <td>0</td>\n",
       "      <td>0</td>\n",
       "      <td>0</td>\n",
       "    </tr>\n",
       "  </tbody>\n",
       "</table>\n",
       "<p>5 rows × 213 columns</p>\n",
       "</div>"
      ],
      "text/plain": [
       "             ABONOS DE DESCUENTO POR VOLUMEN - SUBTE  \\\n",
       "contacto                                               \n",
       "00000001/19                                        0   \n",
       "00000002/19                                        0   \n",
       "00000003/19                                        0   \n",
       "00000005/19                                        0   \n",
       "00000006/19                                        0   \n",
       "\n",
       "             ACCESO A LA INFORMACIÓN PÚBLICA  ACCESOS CERRADOS - SUBTE  \\\n",
       "contacto                                                                 \n",
       "00000001/19                                0                         0   \n",
       "00000002/19                                0                         0   \n",
       "00000003/19                                0                         0   \n",
       "00000005/19                                0                         0   \n",
       "00000006/19                                0                         0   \n",
       "\n",
       "             ACTIVIDAD DE BAILE EFECTUADA SIN PERMISO  \\\n",
       "contacto                                                \n",
       "00000001/19                                         0   \n",
       "00000002/19                                         0   \n",
       "00000003/19                                         0   \n",
       "00000005/19                                         0   \n",
       "00000006/19                                         0   \n",
       "\n",
       "             ALIMENTOS EN MALAS CONDICIONES  \\\n",
       "contacto                                      \n",
       "00000001/19                               0   \n",
       "00000002/19                               0   \n",
       "00000003/19                               0   \n",
       "00000005/19                               0   \n",
       "00000006/19                               0   \n",
       "\n",
       "             ALMACENAMIENTO DE MATERIALES EN VÍA PÚBLICA  \\\n",
       "contacto                                                   \n",
       "00000001/19                                            0   \n",
       "00000002/19                                            0   \n",
       "00000003/19                                            0   \n",
       "00000005/19                                            0   \n",
       "00000006/19                                            0   \n",
       "\n",
       "             ALTAS - BAJAS TEMPERATURAS - SUBTE  \\\n",
       "contacto                                          \n",
       "00000001/19                                   0   \n",
       "00000002/19                                   0   \n",
       "00000003/19                                   0   \n",
       "00000005/19                                   0   \n",
       "00000006/19                                   0   \n",
       "\n",
       "             ALTURA ANTIRREGLAMENTARIA EN OBRAS Y CONSTRUCCIONES  \\\n",
       "contacto                                                           \n",
       "00000001/19                                                  0     \n",
       "00000002/19                                                  0     \n",
       "00000003/19                                                  0     \n",
       "00000005/19                                                  0     \n",
       "00000006/19                                                  0     \n",
       "\n",
       "             ANOMALÍAS EN PUESTO DE DIARIOS  \\\n",
       "contacto                                      \n",
       "00000001/19                               0   \n",
       "00000002/19                               0   \n",
       "00000003/19                               0   \n",
       "00000005/19                               0   \n",
       "00000006/19                               0   \n",
       "\n",
       "             ASCENSORES FUERA DE SERVICIO DURANTE TRÁMITE  ...  \\\n",
       "contacto                                                   ...   \n",
       "00000001/19                                             0  ...   \n",
       "00000002/19                                             0  ...   \n",
       "00000003/19                                             0  ...   \n",
       "00000005/19                                             0  ...   \n",
       "00000006/19                                             0  ...   \n",
       "\n",
       "             TERMINALES DE AUTOCONSULTA -SUBTE  \\\n",
       "contacto                                         \n",
       "00000001/19                                  0   \n",
       "00000002/19                                  0   \n",
       "00000003/19                                  0   \n",
       "00000005/19                                  0   \n",
       "00000006/19                                  0   \n",
       "\n",
       "             TRASCENDENCIA DE CALOR DESDE INSTALACIONES FIJAS COMERCIALES / INDUSTRIALES HACIA INMUEBLES LINDEROS  \\\n",
       "contacto                                                                                                            \n",
       "00000001/19                                                  0                                                      \n",
       "00000002/19                                                  0                                                      \n",
       "00000003/19                                                  0                                                      \n",
       "00000005/19                                                  0                                                      \n",
       "00000006/19                                                  0                                                      \n",
       "\n",
       "             VACIADO DE CAMPANA VERDE  VEHÍCULO MAL ESTACIONADO  \\\n",
       "contacto                                                          \n",
       "00000001/19                         0                         1   \n",
       "00000002/19                         0                         1   \n",
       "00000003/19                         0                         0   \n",
       "00000005/19                         0                         1   \n",
       "00000006/19                         0                         1   \n",
       "\n",
       "             VEHÍCULO OBSTRUYENDO GARAJE  \\\n",
       "contacto                                   \n",
       "00000001/19                            0   \n",
       "00000002/19                            0   \n",
       "00000003/19                            0   \n",
       "00000005/19                            0   \n",
       "00000006/19                            0   \n",
       "\n",
       "             VENTA / EXHIBICIÓN NO PERMITIDA DE BEBIDAS ALCOHÓLICA  \\\n",
       "contacto                                                             \n",
       "00000001/19                                                  0       \n",
       "00000002/19                                                  0       \n",
       "00000003/19                                                  0       \n",
       "00000005/19                                                  0       \n",
       "00000006/19                                                  0       \n",
       "\n",
       "             VENTA AMBULANTE - SUBTE  VEREDA SUCIA POR MASCOTAS  WIFI - SUBTE  \\\n",
       "contacto                                                                        \n",
       "00000001/19                        0                          0             0   \n",
       "00000002/19                        0                          0             0   \n",
       "00000003/19                        0                          0             0   \n",
       "00000005/19                        0                          0             0   \n",
       "00000006/19                        0                          0             0   \n",
       "\n",
       "             ÁRBOL CON ENFERMEDADES/PLAGAS  \n",
       "contacto                                    \n",
       "00000001/19                              0  \n",
       "00000002/19                              0  \n",
       "00000003/19                              0  \n",
       "00000005/19                              0  \n",
       "00000006/19                              0  \n",
       "\n",
       "[5 rows x 213 columns]"
      ]
     },
     "execution_count": 4,
     "metadata": {},
     "output_type": "execute_result"
    }
   ],
   "source": [
    "# generamos dummies para la categoría \"concepto\" y los almacenamos en un DF\n",
    "concepto_dummies = pd.get_dummies(base2019.concepto)\n",
    "concepto_dummies.head(5)"
   ]
  },
  {
   "cell_type": "code",
   "execution_count": 5,
   "metadata": {},
   "outputs": [
    {
     "data": {
      "text/html": [
       "<div>\n",
       "<style scoped>\n",
       "    .dataframe tbody tr th:only-of-type {\n",
       "        vertical-align: middle;\n",
       "    }\n",
       "\n",
       "    .dataframe tbody tr th {\n",
       "        vertical-align: top;\n",
       "    }\n",
       "\n",
       "    .dataframe thead th {\n",
       "        text-align: right;\n",
       "    }\n",
       "</style>\n",
       "<table border=\"1\" class=\"dataframe\">\n",
       "  <thead>\n",
       "    <tr style=\"text-align: right;\">\n",
       "      <th></th>\n",
       "      <th>lat</th>\n",
       "      <th>long</th>\n",
       "    </tr>\n",
       "    <tr>\n",
       "      <th>contacto</th>\n",
       "      <th></th>\n",
       "      <th></th>\n",
       "    </tr>\n",
       "  </thead>\n",
       "  <tbody>\n",
       "    <tr>\n",
       "      <th>00000001/19</th>\n",
       "      <td>-34.634060</td>\n",
       "      <td>-58.466561</td>\n",
       "    </tr>\n",
       "    <tr>\n",
       "      <th>00000002/19</th>\n",
       "      <td>-34.628162</td>\n",
       "      <td>-58.443378</td>\n",
       "    </tr>\n",
       "    <tr>\n",
       "      <th>00000003/19</th>\n",
       "      <td>-34.623324</td>\n",
       "      <td>-58.469810</td>\n",
       "    </tr>\n",
       "    <tr>\n",
       "      <th>00000005/19</th>\n",
       "      <td>-34.618464</td>\n",
       "      <td>-58.445304</td>\n",
       "    </tr>\n",
       "    <tr>\n",
       "      <th>00000006/19</th>\n",
       "      <td>-34.634200</td>\n",
       "      <td>-58.528355</td>\n",
       "    </tr>\n",
       "  </tbody>\n",
       "</table>\n",
       "</div>"
      ],
      "text/plain": [
       "                   lat       long\n",
       "contacto                         \n",
       "00000001/19 -34.634060 -58.466561\n",
       "00000002/19 -34.628162 -58.443378\n",
       "00000003/19 -34.623324 -58.469810\n",
       "00000005/19 -34.618464 -58.445304\n",
       "00000006/19 -34.634200 -58.528355"
      ]
     },
     "execution_count": 5,
     "metadata": {},
     "output_type": "execute_result"
    }
   ],
   "source": [
    "# separo las variables latitud y longitud\n",
    "base2019_clean = base2019.drop(['periodo', 'categoria', 'subcategoria', 'concepto', 'tipo_prestacion', 'fecha_ingreso', 'hora_ingreso', 'domicilio_cgpc', 'domicilio_barrio', 'domicilio_calle', 'domicilio_altura', 'domicilio_esquina_proxima', 'canal', 'genero', 'estado_del_contacto', 'fecha_cierre_contacto'], axis = 1)\n",
    "base2019_clean.head(5)"
   ]
  },
  {
   "cell_type": "code",
   "execution_count": 6,
   "metadata": {},
   "outputs": [
    {
     "data": {
      "text/html": [
       "<div>\n",
       "<style scoped>\n",
       "    .dataframe tbody tr th:only-of-type {\n",
       "        vertical-align: middle;\n",
       "    }\n",
       "\n",
       "    .dataframe tbody tr th {\n",
       "        vertical-align: top;\n",
       "    }\n",
       "\n",
       "    .dataframe thead th {\n",
       "        text-align: right;\n",
       "    }\n",
       "</style>\n",
       "<table border=\"1\" class=\"dataframe\">\n",
       "  <thead>\n",
       "    <tr style=\"text-align: right;\">\n",
       "      <th></th>\n",
       "      <th>lat</th>\n",
       "      <th>long</th>\n",
       "      <th>ABONOS DE DESCUENTO POR VOLUMEN - SUBTE</th>\n",
       "      <th>ACCESO A LA INFORMACIÓN PÚBLICA</th>\n",
       "      <th>ACCESOS CERRADOS - SUBTE</th>\n",
       "      <th>ACTIVIDAD DE BAILE EFECTUADA SIN PERMISO</th>\n",
       "      <th>ALIMENTOS EN MALAS CONDICIONES</th>\n",
       "      <th>ALMACENAMIENTO DE MATERIALES EN VÍA PÚBLICA</th>\n",
       "      <th>ALTAS - BAJAS TEMPERATURAS - SUBTE</th>\n",
       "      <th>ALTURA ANTIRREGLAMENTARIA EN OBRAS Y CONSTRUCCIONES</th>\n",
       "      <th>...</th>\n",
       "      <th>TERMINALES DE AUTOCONSULTA -SUBTE</th>\n",
       "      <th>TRASCENDENCIA DE CALOR DESDE INSTALACIONES FIJAS COMERCIALES / INDUSTRIALES HACIA INMUEBLES LINDEROS</th>\n",
       "      <th>VACIADO DE CAMPANA VERDE</th>\n",
       "      <th>VEHÍCULO MAL ESTACIONADO</th>\n",
       "      <th>VEHÍCULO OBSTRUYENDO GARAJE</th>\n",
       "      <th>VENTA / EXHIBICIÓN NO PERMITIDA DE BEBIDAS ALCOHÓLICA</th>\n",
       "      <th>VENTA AMBULANTE - SUBTE</th>\n",
       "      <th>VEREDA SUCIA POR MASCOTAS</th>\n",
       "      <th>WIFI - SUBTE</th>\n",
       "      <th>ÁRBOL CON ENFERMEDADES/PLAGAS</th>\n",
       "    </tr>\n",
       "    <tr>\n",
       "      <th>contacto</th>\n",
       "      <th></th>\n",
       "      <th></th>\n",
       "      <th></th>\n",
       "      <th></th>\n",
       "      <th></th>\n",
       "      <th></th>\n",
       "      <th></th>\n",
       "      <th></th>\n",
       "      <th></th>\n",
       "      <th></th>\n",
       "      <th></th>\n",
       "      <th></th>\n",
       "      <th></th>\n",
       "      <th></th>\n",
       "      <th></th>\n",
       "      <th></th>\n",
       "      <th></th>\n",
       "      <th></th>\n",
       "      <th></th>\n",
       "      <th></th>\n",
       "      <th></th>\n",
       "    </tr>\n",
       "  </thead>\n",
       "  <tbody>\n",
       "    <tr>\n",
       "      <th>00000001/19</th>\n",
       "      <td>-34.634060</td>\n",
       "      <td>-58.466561</td>\n",
       "      <td>0</td>\n",
       "      <td>0</td>\n",
       "      <td>0</td>\n",
       "      <td>0</td>\n",
       "      <td>0</td>\n",
       "      <td>0</td>\n",
       "      <td>0</td>\n",
       "      <td>0</td>\n",
       "      <td>...</td>\n",
       "      <td>0</td>\n",
       "      <td>0</td>\n",
       "      <td>0</td>\n",
       "      <td>1</td>\n",
       "      <td>0</td>\n",
       "      <td>0</td>\n",
       "      <td>0</td>\n",
       "      <td>0</td>\n",
       "      <td>0</td>\n",
       "      <td>0</td>\n",
       "    </tr>\n",
       "    <tr>\n",
       "      <th>00000002/19</th>\n",
       "      <td>-34.628162</td>\n",
       "      <td>-58.443378</td>\n",
       "      <td>0</td>\n",
       "      <td>0</td>\n",
       "      <td>0</td>\n",
       "      <td>0</td>\n",
       "      <td>0</td>\n",
       "      <td>0</td>\n",
       "      <td>0</td>\n",
       "      <td>0</td>\n",
       "      <td>...</td>\n",
       "      <td>0</td>\n",
       "      <td>0</td>\n",
       "      <td>0</td>\n",
       "      <td>1</td>\n",
       "      <td>0</td>\n",
       "      <td>0</td>\n",
       "      <td>0</td>\n",
       "      <td>0</td>\n",
       "      <td>0</td>\n",
       "      <td>0</td>\n",
       "    </tr>\n",
       "    <tr>\n",
       "      <th>00000003/19</th>\n",
       "      <td>-34.623324</td>\n",
       "      <td>-58.469810</td>\n",
       "      <td>0</td>\n",
       "      <td>0</td>\n",
       "      <td>0</td>\n",
       "      <td>0</td>\n",
       "      <td>0</td>\n",
       "      <td>0</td>\n",
       "      <td>0</td>\n",
       "      <td>0</td>\n",
       "      <td>...</td>\n",
       "      <td>0</td>\n",
       "      <td>0</td>\n",
       "      <td>0</td>\n",
       "      <td>0</td>\n",
       "      <td>0</td>\n",
       "      <td>0</td>\n",
       "      <td>0</td>\n",
       "      <td>0</td>\n",
       "      <td>0</td>\n",
       "      <td>0</td>\n",
       "    </tr>\n",
       "    <tr>\n",
       "      <th>00000005/19</th>\n",
       "      <td>-34.618464</td>\n",
       "      <td>-58.445304</td>\n",
       "      <td>0</td>\n",
       "      <td>0</td>\n",
       "      <td>0</td>\n",
       "      <td>0</td>\n",
       "      <td>0</td>\n",
       "      <td>0</td>\n",
       "      <td>0</td>\n",
       "      <td>0</td>\n",
       "      <td>...</td>\n",
       "      <td>0</td>\n",
       "      <td>0</td>\n",
       "      <td>0</td>\n",
       "      <td>1</td>\n",
       "      <td>0</td>\n",
       "      <td>0</td>\n",
       "      <td>0</td>\n",
       "      <td>0</td>\n",
       "      <td>0</td>\n",
       "      <td>0</td>\n",
       "    </tr>\n",
       "    <tr>\n",
       "      <th>00000006/19</th>\n",
       "      <td>-34.634200</td>\n",
       "      <td>-58.528355</td>\n",
       "      <td>0</td>\n",
       "      <td>0</td>\n",
       "      <td>0</td>\n",
       "      <td>0</td>\n",
       "      <td>0</td>\n",
       "      <td>0</td>\n",
       "      <td>0</td>\n",
       "      <td>0</td>\n",
       "      <td>...</td>\n",
       "      <td>0</td>\n",
       "      <td>0</td>\n",
       "      <td>0</td>\n",
       "      <td>1</td>\n",
       "      <td>0</td>\n",
       "      <td>0</td>\n",
       "      <td>0</td>\n",
       "      <td>0</td>\n",
       "      <td>0</td>\n",
       "      <td>0</td>\n",
       "    </tr>\n",
       "  </tbody>\n",
       "</table>\n",
       "<p>5 rows × 215 columns</p>\n",
       "</div>"
      ],
      "text/plain": [
       "                   lat       long  ABONOS DE DESCUENTO POR VOLUMEN - SUBTE  \\\n",
       "contacto                                                                     \n",
       "00000001/19 -34.634060 -58.466561                                        0   \n",
       "00000002/19 -34.628162 -58.443378                                        0   \n",
       "00000003/19 -34.623324 -58.469810                                        0   \n",
       "00000005/19 -34.618464 -58.445304                                        0   \n",
       "00000006/19 -34.634200 -58.528355                                        0   \n",
       "\n",
       "             ACCESO A LA INFORMACIÓN PÚBLICA  ACCESOS CERRADOS - SUBTE  \\\n",
       "contacto                                                                 \n",
       "00000001/19                                0                         0   \n",
       "00000002/19                                0                         0   \n",
       "00000003/19                                0                         0   \n",
       "00000005/19                                0                         0   \n",
       "00000006/19                                0                         0   \n",
       "\n",
       "             ACTIVIDAD DE BAILE EFECTUADA SIN PERMISO  \\\n",
       "contacto                                                \n",
       "00000001/19                                         0   \n",
       "00000002/19                                         0   \n",
       "00000003/19                                         0   \n",
       "00000005/19                                         0   \n",
       "00000006/19                                         0   \n",
       "\n",
       "             ALIMENTOS EN MALAS CONDICIONES  \\\n",
       "contacto                                      \n",
       "00000001/19                               0   \n",
       "00000002/19                               0   \n",
       "00000003/19                               0   \n",
       "00000005/19                               0   \n",
       "00000006/19                               0   \n",
       "\n",
       "             ALMACENAMIENTO DE MATERIALES EN VÍA PÚBLICA  \\\n",
       "contacto                                                   \n",
       "00000001/19                                            0   \n",
       "00000002/19                                            0   \n",
       "00000003/19                                            0   \n",
       "00000005/19                                            0   \n",
       "00000006/19                                            0   \n",
       "\n",
       "             ALTAS - BAJAS TEMPERATURAS - SUBTE  \\\n",
       "contacto                                          \n",
       "00000001/19                                   0   \n",
       "00000002/19                                   0   \n",
       "00000003/19                                   0   \n",
       "00000005/19                                   0   \n",
       "00000006/19                                   0   \n",
       "\n",
       "             ALTURA ANTIRREGLAMENTARIA EN OBRAS Y CONSTRUCCIONES  ...  \\\n",
       "contacto                                                          ...   \n",
       "00000001/19                                                  0    ...   \n",
       "00000002/19                                                  0    ...   \n",
       "00000003/19                                                  0    ...   \n",
       "00000005/19                                                  0    ...   \n",
       "00000006/19                                                  0    ...   \n",
       "\n",
       "             TERMINALES DE AUTOCONSULTA -SUBTE  \\\n",
       "contacto                                         \n",
       "00000001/19                                  0   \n",
       "00000002/19                                  0   \n",
       "00000003/19                                  0   \n",
       "00000005/19                                  0   \n",
       "00000006/19                                  0   \n",
       "\n",
       "             TRASCENDENCIA DE CALOR DESDE INSTALACIONES FIJAS COMERCIALES / INDUSTRIALES HACIA INMUEBLES LINDEROS  \\\n",
       "contacto                                                                                                            \n",
       "00000001/19                                                  0                                                      \n",
       "00000002/19                                                  0                                                      \n",
       "00000003/19                                                  0                                                      \n",
       "00000005/19                                                  0                                                      \n",
       "00000006/19                                                  0                                                      \n",
       "\n",
       "             VACIADO DE CAMPANA VERDE  VEHÍCULO MAL ESTACIONADO  \\\n",
       "contacto                                                          \n",
       "00000001/19                         0                         1   \n",
       "00000002/19                         0                         1   \n",
       "00000003/19                         0                         0   \n",
       "00000005/19                         0                         1   \n",
       "00000006/19                         0                         1   \n",
       "\n",
       "             VEHÍCULO OBSTRUYENDO GARAJE  \\\n",
       "contacto                                   \n",
       "00000001/19                            0   \n",
       "00000002/19                            0   \n",
       "00000003/19                            0   \n",
       "00000005/19                            0   \n",
       "00000006/19                            0   \n",
       "\n",
       "             VENTA / EXHIBICIÓN NO PERMITIDA DE BEBIDAS ALCOHÓLICA  \\\n",
       "contacto                                                             \n",
       "00000001/19                                                  0       \n",
       "00000002/19                                                  0       \n",
       "00000003/19                                                  0       \n",
       "00000005/19                                                  0       \n",
       "00000006/19                                                  0       \n",
       "\n",
       "             VENTA AMBULANTE - SUBTE  VEREDA SUCIA POR MASCOTAS  WIFI - SUBTE  \\\n",
       "contacto                                                                        \n",
       "00000001/19                        0                          0             0   \n",
       "00000002/19                        0                          0             0   \n",
       "00000003/19                        0                          0             0   \n",
       "00000005/19                        0                          0             0   \n",
       "00000006/19                        0                          0             0   \n",
       "\n",
       "             ÁRBOL CON ENFERMEDADES/PLAGAS  \n",
       "contacto                                    \n",
       "00000001/19                              0  \n",
       "00000002/19                              0  \n",
       "00000003/19                              0  \n",
       "00000005/19                              0  \n",
       "00000006/19                              0  \n",
       "\n",
       "[5 rows x 215 columns]"
      ]
     },
     "execution_count": 6,
     "metadata": {},
     "output_type": "execute_result"
    }
   ],
   "source": [
    "# concatenamos ambos dataframes por columnas\n",
    "base2019_dummies = pd.concat([base2019_clean, concepto_dummies], axis = 1)\n",
    "base2019_dummies.head(5)"
   ]
  },
  {
   "cell_type": "code",
   "execution_count": 7,
   "metadata": {},
   "outputs": [
    {
     "data": {
      "text/plain": [
       "(626101, 215)"
      ]
     },
     "execution_count": 7,
     "metadata": {},
     "output_type": "execute_result"
    }
   ],
   "source": [
    "base2019_dummies.shape"
   ]
  },
  {
   "cell_type": "markdown",
   "metadata": {},
   "source": [
    "¿Corresponde estandarizar los datos para la clusterización? <br>\n",
    "Nuestro dataset se compone de una matriz sparse con las variables dummies, más el par de coordenadas latitud y longitud. <br>\n",
    "El riesgo de no estandarizar es que la diferencia en los órdenes de magnitud de las variables distorsionen las métricas de proximidad del algoritmo de clustering.<br>\n",
    "Nosotros tenemos por un lado las variables dummies (binarias, con valores 0 y 1), y el par de coordenadas posicionales. <br>\n",
    "Las coordenadas latitud y longitud presentan problemas de continuidad (por ejemplo, en el caso del antemeridiano de Greenwich, donde la longitud toma valores de +180 y -180 a ambos lados, representando un salto gigante en la distancia para dos puntos próximos entre sí). Restringiendo el dominio a la Ciudad de Buenos Aires, no tenemos este problema, y por otro lado, al expresarse los valores en decimales, la diferencia máxima de los valores en este dominio es inferior a la unidad. Por tanto, no hay diferencias en el orden de magnitud de la diferencia entre las variables. <br>\n",
    "Evaluamos a continuación los scores obtenidos en la clusterización con los datos originales y normalizados, con apertura sobre el tipo de variables involucradas."
   ]
  },
  {
   "cell_type": "code",
   "execution_count": 8,
   "metadata": {},
   "outputs": [
    {
     "data": {
      "text/html": [
       "<div>\n",
       "<style scoped>\n",
       "    .dataframe tbody tr th:only-of-type {\n",
       "        vertical-align: middle;\n",
       "    }\n",
       "\n",
       "    .dataframe tbody tr th {\n",
       "        vertical-align: top;\n",
       "    }\n",
       "\n",
       "    .dataframe thead th {\n",
       "        text-align: right;\n",
       "    }\n",
       "</style>\n",
       "<table border=\"1\" class=\"dataframe\">\n",
       "  <thead>\n",
       "    <tr style=\"text-align: right;\">\n",
       "      <th></th>\n",
       "      <th>lat</th>\n",
       "      <th>long</th>\n",
       "    </tr>\n",
       "    <tr>\n",
       "      <th>contacto</th>\n",
       "      <th></th>\n",
       "      <th></th>\n",
       "    </tr>\n",
       "  </thead>\n",
       "  <tbody>\n",
       "    <tr>\n",
       "      <th>00000001/19</th>\n",
       "      <td>-34.634060</td>\n",
       "      <td>-58.466561</td>\n",
       "    </tr>\n",
       "    <tr>\n",
       "      <th>00000002/19</th>\n",
       "      <td>-34.628162</td>\n",
       "      <td>-58.443378</td>\n",
       "    </tr>\n",
       "    <tr>\n",
       "      <th>00000003/19</th>\n",
       "      <td>-34.623324</td>\n",
       "      <td>-58.469810</td>\n",
       "    </tr>\n",
       "    <tr>\n",
       "      <th>00000005/19</th>\n",
       "      <td>-34.618464</td>\n",
       "      <td>-58.445304</td>\n",
       "    </tr>\n",
       "    <tr>\n",
       "      <th>00000006/19</th>\n",
       "      <td>-34.634200</td>\n",
       "      <td>-58.528355</td>\n",
       "    </tr>\n",
       "  </tbody>\n",
       "</table>\n",
       "</div>"
      ],
      "text/plain": [
       "                   lat       long\n",
       "contacto                         \n",
       "00000001/19 -34.634060 -58.466561\n",
       "00000002/19 -34.628162 -58.443378\n",
       "00000003/19 -34.623324 -58.469810\n",
       "00000005/19 -34.618464 -58.445304\n",
       "00000006/19 -34.634200 -58.528355"
      ]
     },
     "execution_count": 8,
     "metadata": {},
     "output_type": "execute_result"
    }
   ],
   "source": [
    "# defino un subconjunto con las coordenadas de latitud y longitud únicamente\n",
    "base_coord = base2019_dummies.iloc[:,0:2]\n",
    "base_coord.head(5)"
   ]
  },
  {
   "cell_type": "code",
   "execution_count": 9,
   "metadata": {},
   "outputs": [
    {
     "data": {
      "text/html": [
       "<div>\n",
       "<style scoped>\n",
       "    .dataframe tbody tr th:only-of-type {\n",
       "        vertical-align: middle;\n",
       "    }\n",
       "\n",
       "    .dataframe tbody tr th {\n",
       "        vertical-align: top;\n",
       "    }\n",
       "\n",
       "    .dataframe thead th {\n",
       "        text-align: right;\n",
       "    }\n",
       "</style>\n",
       "<table border=\"1\" class=\"dataframe\">\n",
       "  <thead>\n",
       "    <tr style=\"text-align: right;\">\n",
       "      <th></th>\n",
       "      <th>ABONOS DE DESCUENTO POR VOLUMEN - SUBTE</th>\n",
       "      <th>ACCESO A LA INFORMACIÓN PÚBLICA</th>\n",
       "      <th>ACCESOS CERRADOS - SUBTE</th>\n",
       "      <th>ACTIVIDAD DE BAILE EFECTUADA SIN PERMISO</th>\n",
       "      <th>ALIMENTOS EN MALAS CONDICIONES</th>\n",
       "      <th>ALMACENAMIENTO DE MATERIALES EN VÍA PÚBLICA</th>\n",
       "      <th>ALTAS - BAJAS TEMPERATURAS - SUBTE</th>\n",
       "      <th>ALTURA ANTIRREGLAMENTARIA EN OBRAS Y CONSTRUCCIONES</th>\n",
       "      <th>ANOMALÍAS EN PUESTO DE DIARIOS</th>\n",
       "      <th>ASCENSORES FUERA DE SERVICIO DURANTE TRÁMITE</th>\n",
       "      <th>...</th>\n",
       "      <th>TERMINALES DE AUTOCONSULTA -SUBTE</th>\n",
       "      <th>TRASCENDENCIA DE CALOR DESDE INSTALACIONES FIJAS COMERCIALES / INDUSTRIALES HACIA INMUEBLES LINDEROS</th>\n",
       "      <th>VACIADO DE CAMPANA VERDE</th>\n",
       "      <th>VEHÍCULO MAL ESTACIONADO</th>\n",
       "      <th>VEHÍCULO OBSTRUYENDO GARAJE</th>\n",
       "      <th>VENTA / EXHIBICIÓN NO PERMITIDA DE BEBIDAS ALCOHÓLICA</th>\n",
       "      <th>VENTA AMBULANTE - SUBTE</th>\n",
       "      <th>VEREDA SUCIA POR MASCOTAS</th>\n",
       "      <th>WIFI - SUBTE</th>\n",
       "      <th>ÁRBOL CON ENFERMEDADES/PLAGAS</th>\n",
       "    </tr>\n",
       "    <tr>\n",
       "      <th>contacto</th>\n",
       "      <th></th>\n",
       "      <th></th>\n",
       "      <th></th>\n",
       "      <th></th>\n",
       "      <th></th>\n",
       "      <th></th>\n",
       "      <th></th>\n",
       "      <th></th>\n",
       "      <th></th>\n",
       "      <th></th>\n",
       "      <th></th>\n",
       "      <th></th>\n",
       "      <th></th>\n",
       "      <th></th>\n",
       "      <th></th>\n",
       "      <th></th>\n",
       "      <th></th>\n",
       "      <th></th>\n",
       "      <th></th>\n",
       "      <th></th>\n",
       "      <th></th>\n",
       "    </tr>\n",
       "  </thead>\n",
       "  <tbody>\n",
       "    <tr>\n",
       "      <th>00000001/19</th>\n",
       "      <td>0</td>\n",
       "      <td>0</td>\n",
       "      <td>0</td>\n",
       "      <td>0</td>\n",
       "      <td>0</td>\n",
       "      <td>0</td>\n",
       "      <td>0</td>\n",
       "      <td>0</td>\n",
       "      <td>0</td>\n",
       "      <td>0</td>\n",
       "      <td>...</td>\n",
       "      <td>0</td>\n",
       "      <td>0</td>\n",
       "      <td>0</td>\n",
       "      <td>1</td>\n",
       "      <td>0</td>\n",
       "      <td>0</td>\n",
       "      <td>0</td>\n",
       "      <td>0</td>\n",
       "      <td>0</td>\n",
       "      <td>0</td>\n",
       "    </tr>\n",
       "    <tr>\n",
       "      <th>00000002/19</th>\n",
       "      <td>0</td>\n",
       "      <td>0</td>\n",
       "      <td>0</td>\n",
       "      <td>0</td>\n",
       "      <td>0</td>\n",
       "      <td>0</td>\n",
       "      <td>0</td>\n",
       "      <td>0</td>\n",
       "      <td>0</td>\n",
       "      <td>0</td>\n",
       "      <td>...</td>\n",
       "      <td>0</td>\n",
       "      <td>0</td>\n",
       "      <td>0</td>\n",
       "      <td>1</td>\n",
       "      <td>0</td>\n",
       "      <td>0</td>\n",
       "      <td>0</td>\n",
       "      <td>0</td>\n",
       "      <td>0</td>\n",
       "      <td>0</td>\n",
       "    </tr>\n",
       "    <tr>\n",
       "      <th>00000003/19</th>\n",
       "      <td>0</td>\n",
       "      <td>0</td>\n",
       "      <td>0</td>\n",
       "      <td>0</td>\n",
       "      <td>0</td>\n",
       "      <td>0</td>\n",
       "      <td>0</td>\n",
       "      <td>0</td>\n",
       "      <td>0</td>\n",
       "      <td>0</td>\n",
       "      <td>...</td>\n",
       "      <td>0</td>\n",
       "      <td>0</td>\n",
       "      <td>0</td>\n",
       "      <td>0</td>\n",
       "      <td>0</td>\n",
       "      <td>0</td>\n",
       "      <td>0</td>\n",
       "      <td>0</td>\n",
       "      <td>0</td>\n",
       "      <td>0</td>\n",
       "    </tr>\n",
       "    <tr>\n",
       "      <th>00000005/19</th>\n",
       "      <td>0</td>\n",
       "      <td>0</td>\n",
       "      <td>0</td>\n",
       "      <td>0</td>\n",
       "      <td>0</td>\n",
       "      <td>0</td>\n",
       "      <td>0</td>\n",
       "      <td>0</td>\n",
       "      <td>0</td>\n",
       "      <td>0</td>\n",
       "      <td>...</td>\n",
       "      <td>0</td>\n",
       "      <td>0</td>\n",
       "      <td>0</td>\n",
       "      <td>1</td>\n",
       "      <td>0</td>\n",
       "      <td>0</td>\n",
       "      <td>0</td>\n",
       "      <td>0</td>\n",
       "      <td>0</td>\n",
       "      <td>0</td>\n",
       "    </tr>\n",
       "    <tr>\n",
       "      <th>00000006/19</th>\n",
       "      <td>0</td>\n",
       "      <td>0</td>\n",
       "      <td>0</td>\n",
       "      <td>0</td>\n",
       "      <td>0</td>\n",
       "      <td>0</td>\n",
       "      <td>0</td>\n",
       "      <td>0</td>\n",
       "      <td>0</td>\n",
       "      <td>0</td>\n",
       "      <td>...</td>\n",
       "      <td>0</td>\n",
       "      <td>0</td>\n",
       "      <td>0</td>\n",
       "      <td>1</td>\n",
       "      <td>0</td>\n",
       "      <td>0</td>\n",
       "      <td>0</td>\n",
       "      <td>0</td>\n",
       "      <td>0</td>\n",
       "      <td>0</td>\n",
       "    </tr>\n",
       "  </tbody>\n",
       "</table>\n",
       "<p>5 rows × 213 columns</p>\n",
       "</div>"
      ],
      "text/plain": [
       "             ABONOS DE DESCUENTO POR VOLUMEN - SUBTE  \\\n",
       "contacto                                               \n",
       "00000001/19                                        0   \n",
       "00000002/19                                        0   \n",
       "00000003/19                                        0   \n",
       "00000005/19                                        0   \n",
       "00000006/19                                        0   \n",
       "\n",
       "             ACCESO A LA INFORMACIÓN PÚBLICA  ACCESOS CERRADOS - SUBTE  \\\n",
       "contacto                                                                 \n",
       "00000001/19                                0                         0   \n",
       "00000002/19                                0                         0   \n",
       "00000003/19                                0                         0   \n",
       "00000005/19                                0                         0   \n",
       "00000006/19                                0                         0   \n",
       "\n",
       "             ACTIVIDAD DE BAILE EFECTUADA SIN PERMISO  \\\n",
       "contacto                                                \n",
       "00000001/19                                         0   \n",
       "00000002/19                                         0   \n",
       "00000003/19                                         0   \n",
       "00000005/19                                         0   \n",
       "00000006/19                                         0   \n",
       "\n",
       "             ALIMENTOS EN MALAS CONDICIONES  \\\n",
       "contacto                                      \n",
       "00000001/19                               0   \n",
       "00000002/19                               0   \n",
       "00000003/19                               0   \n",
       "00000005/19                               0   \n",
       "00000006/19                               0   \n",
       "\n",
       "             ALMACENAMIENTO DE MATERIALES EN VÍA PÚBLICA  \\\n",
       "contacto                                                   \n",
       "00000001/19                                            0   \n",
       "00000002/19                                            0   \n",
       "00000003/19                                            0   \n",
       "00000005/19                                            0   \n",
       "00000006/19                                            0   \n",
       "\n",
       "             ALTAS - BAJAS TEMPERATURAS - SUBTE  \\\n",
       "contacto                                          \n",
       "00000001/19                                   0   \n",
       "00000002/19                                   0   \n",
       "00000003/19                                   0   \n",
       "00000005/19                                   0   \n",
       "00000006/19                                   0   \n",
       "\n",
       "             ALTURA ANTIRREGLAMENTARIA EN OBRAS Y CONSTRUCCIONES  \\\n",
       "contacto                                                           \n",
       "00000001/19                                                  0     \n",
       "00000002/19                                                  0     \n",
       "00000003/19                                                  0     \n",
       "00000005/19                                                  0     \n",
       "00000006/19                                                  0     \n",
       "\n",
       "             ANOMALÍAS EN PUESTO DE DIARIOS  \\\n",
       "contacto                                      \n",
       "00000001/19                               0   \n",
       "00000002/19                               0   \n",
       "00000003/19                               0   \n",
       "00000005/19                               0   \n",
       "00000006/19                               0   \n",
       "\n",
       "             ASCENSORES FUERA DE SERVICIO DURANTE TRÁMITE  ...  \\\n",
       "contacto                                                   ...   \n",
       "00000001/19                                             0  ...   \n",
       "00000002/19                                             0  ...   \n",
       "00000003/19                                             0  ...   \n",
       "00000005/19                                             0  ...   \n",
       "00000006/19                                             0  ...   \n",
       "\n",
       "             TERMINALES DE AUTOCONSULTA -SUBTE  \\\n",
       "contacto                                         \n",
       "00000001/19                                  0   \n",
       "00000002/19                                  0   \n",
       "00000003/19                                  0   \n",
       "00000005/19                                  0   \n",
       "00000006/19                                  0   \n",
       "\n",
       "             TRASCENDENCIA DE CALOR DESDE INSTALACIONES FIJAS COMERCIALES / INDUSTRIALES HACIA INMUEBLES LINDEROS  \\\n",
       "contacto                                                                                                            \n",
       "00000001/19                                                  0                                                      \n",
       "00000002/19                                                  0                                                      \n",
       "00000003/19                                                  0                                                      \n",
       "00000005/19                                                  0                                                      \n",
       "00000006/19                                                  0                                                      \n",
       "\n",
       "             VACIADO DE CAMPANA VERDE  VEHÍCULO MAL ESTACIONADO  \\\n",
       "contacto                                                          \n",
       "00000001/19                         0                         1   \n",
       "00000002/19                         0                         1   \n",
       "00000003/19                         0                         0   \n",
       "00000005/19                         0                         1   \n",
       "00000006/19                         0                         1   \n",
       "\n",
       "             VEHÍCULO OBSTRUYENDO GARAJE  \\\n",
       "contacto                                   \n",
       "00000001/19                            0   \n",
       "00000002/19                            0   \n",
       "00000003/19                            0   \n",
       "00000005/19                            0   \n",
       "00000006/19                            0   \n",
       "\n",
       "             VENTA / EXHIBICIÓN NO PERMITIDA DE BEBIDAS ALCOHÓLICA  \\\n",
       "contacto                                                             \n",
       "00000001/19                                                  0       \n",
       "00000002/19                                                  0       \n",
       "00000003/19                                                  0       \n",
       "00000005/19                                                  0       \n",
       "00000006/19                                                  0       \n",
       "\n",
       "             VENTA AMBULANTE - SUBTE  VEREDA SUCIA POR MASCOTAS  WIFI - SUBTE  \\\n",
       "contacto                                                                        \n",
       "00000001/19                        0                          0             0   \n",
       "00000002/19                        0                          0             0   \n",
       "00000003/19                        0                          0             0   \n",
       "00000005/19                        0                          0             0   \n",
       "00000006/19                        0                          0             0   \n",
       "\n",
       "             ÁRBOL CON ENFERMEDADES/PLAGAS  \n",
       "contacto                                    \n",
       "00000001/19                              0  \n",
       "00000002/19                              0  \n",
       "00000003/19                              0  \n",
       "00000005/19                              0  \n",
       "00000006/19                              0  \n",
       "\n",
       "[5 rows x 213 columns]"
      ]
     },
     "execution_count": 9,
     "metadata": {},
     "output_type": "execute_result"
    }
   ],
   "source": [
    "# replico para las variables dummies generadas a partir del campo \"concepto\"\n",
    "base_concepto = base2019_dummies.iloc[:,2:]\n",
    "base_concepto.head(5)"
   ]
  },
  {
   "cell_type": "code",
   "execution_count": 12,
   "metadata": {},
   "outputs": [],
   "source": [
    "# corremos a continuación modelos de clusterizacion sobre los subconjuntos\n",
    "# se determina de manera arbitraria k=10 para el nro. de clusters\n",
    "base10 = KMeans(n_clusters=10, random_state=14).fit(base2019_dummies)\n",
    "base10 = base10.labels_\n",
    "coord10 = KMeans(n_clusters=10, random_state=14).fit(base_coord)\n",
    "coord10 = coord10.labels_\n",
    "concepto10 = KMeans(n_clusters=10, random_state=14).fit(base_concepto)\n",
    "concepto10 = concepto10.labels_"
   ]
  },
  {
   "cell_type": "code",
   "execution_count": 13,
   "metadata": {},
   "outputs": [],
   "source": [
    "# calculamos el SS para los modelos obtenidos\n",
    "score_base10 = silhouette_score(base2019_dummies, base10, sample_size=156525)\n",
    "score_coord10 = silhouette_score(base_coord, coord10, sample_size=156525)\n",
    "score_concepto10 = silhouette_score(base_concepto, concepto10, sample_size=156525)"
   ]
  },
  {
   "cell_type": "code",
   "execution_count": 16,
   "metadata": {},
   "outputs": [
    {
     "name": "stdout",
     "output_type": "stream",
     "text": [
      "0.6623430558672089\n",
      "0.36609468268997686\n",
      "0.6846313130703465\n"
     ]
    }
   ],
   "source": [
    "# comparo los resultados obtenidos\n",
    "print(score_base10)\n",
    "print(score_coord10)\n",
    "print(score_concepto10)"
   ]
  },
  {
   "cell_type": "code",
   "execution_count": 17,
   "metadata": {},
   "outputs": [],
   "source": [
    "# ¿qué pasa si normalizamos las variables?\n",
    "scaler = preprocessing.StandardScaler().fit(base2019_dummies)\n",
    "base_scal = scaler.transform(base2019_dummies)"
   ]
  },
  {
   "cell_type": "code",
   "execution_count": 18,
   "metadata": {},
   "outputs": [
    {
     "name": "stdout",
     "output_type": "stream",
     "text": [
      "[-8.17018206e-14  3.57657941e-14  1.04975400e-18 -5.11145084e-17\n",
      " -1.25970480e-18  7.56957751e-18 -1.05315861e-17 -4.99342444e-19\n",
      "  5.44737212e-18 -1.80217228e-17  1.56611948e-18  2.99038032e-18\n",
      " -3.13791331e-18  1.75904725e-18  1.18139883e-17 -4.02878563e-19\n",
      " -6.07155018e-18 -6.44605701e-18  1.41404701e-17  1.30396470e-17\n",
      "  8.23915033e-18  2.74070910e-18  1.95197501e-18 -6.94539945e-18\n",
      " -7.35395236e-18 -3.73371964e-18 -5.76513549e-18  2.90526513e-18\n",
      "  2.58750176e-18  4.15362124e-18  5.40197735e-18 -1.90658024e-17\n",
      " -8.37533463e-18 -1.02138227e-19 -2.48252636e-19  2.81447560e-18\n",
      " -4.76645060e-18  1.95197501e-18  7.94975869e-18  4.66658212e-17\n",
      "  2.95973885e-17 -3.64066037e-17  2.85987036e-18 -8.56826240e-18\n",
      "  1.43901414e-17 -3.22302850e-18  1.12352050e-18  3.86990394e-18\n",
      "  2.73503475e-17  8.72430691e-19  5.07286529e-17  1.22565873e-18\n",
      " -4.47705896e-18  7.26316283e-19  6.76382038e-18 -3.13223897e-18\n",
      "  2.27966849e-18  5.08421398e-18  3.44432800e-18 -4.93441125e-17\n",
      "  1.90658024e-18  1.37177314e-18  1.21431004e-18  4.07985474e-18\n",
      " -1.10536259e-17 -1.95424475e-17  4.93668098e-18 -3.61342351e-17\n",
      "  6.80921515e-20  2.42408059e-17 -8.17105818e-18 -2.72368606e-19\n",
      "  1.99736978e-18 -1.90204077e-17  2.26973838e-19 -1.43560953e-18\n",
      "  1.01457306e-17  1.56044514e-18  1.61718860e-19  9.64638813e-18\n",
      "  8.85197969e-19 -3.65995314e-18 -3.77911441e-18  1.22906333e-17\n",
      " -4.53947677e-20  2.28392425e-19 -8.23915033e-18  1.61009567e-18\n",
      "  7.71711050e-19 -1.11671128e-17 -1.58881687e-19  1.44071644e-17\n",
      " -5.47006950e-18 -8.83779383e-19 -4.60756892e-18  2.13355408e-18\n",
      "  1.49802733e-18 -1.67506693e-17  7.94408434e-19 -5.99210933e-18\n",
      " -1.81579071e-19 -3.40460757e-20  8.77821320e-18  3.97204217e-18\n",
      "  1.75450777e-17 -3.26842327e-18  7.43339321e-19  4.03445998e-18\n",
      "  2.67829129e-18  5.36225693e-19  7.41637017e-18 -5.59490511e-18\n",
      " -1.80444201e-18 -4.49408200e-18 -2.61019914e-17 -7.17804764e-19\n",
      "  2.24987817e-18 -1.27956501e-18 -3.40460757e-17  3.85855525e-18\n",
      "  5.60625381e-18  2.40592269e-18 -3.93799610e-18 -1.47532995e-18\n",
      " -4.40329246e-18 -8.26184772e-18 -4.74375322e-18 -2.63289652e-18\n",
      "  7.46743928e-18  3.18671269e-17 -3.79273284e-17 -9.36267083e-18\n",
      "  4.59622023e-18  8.53421632e-18 -3.15153175e-17  1.33914565e-18\n",
      " -2.36620226e-18 -1.70230379e-18 -6.33257009e-18  1.13486919e-18\n",
      " -6.87163296e-18  6.45740570e-18 -1.60016556e-18 -9.16974307e-18\n",
      "  1.05315861e-17 -2.54210699e-17  1.81579071e-19 -8.71579539e-18\n",
      " -5.88429676e-18  1.16324092e-18  3.26274893e-19  5.56653339e-18\n",
      " -1.41631675e-17 -5.60171433e-17  1.98034674e-18 -3.75641702e-18\n",
      " -1.49802733e-17  3.49539711e-17 -1.20296134e-18  7.58660055e-18\n",
      " -1.95197501e-17 -1.08947442e-17  3.33651542e-17 -1.01911253e-17\n",
      "  2.38776478e-17 -5.41900039e-18 -4.26710816e-18  7.49013666e-18\n",
      "  2.72368606e-19  6.71842561e-18  2.14944225e-17 -5.40197735e-18\n",
      " -1.70230379e-18  5.44453495e-18  2.29243577e-18 -4.73240453e-18\n",
      "  2.99832440e-17  1.52753393e-17 -9.09030223e-18  1.47532995e-18\n",
      " -3.20941007e-17 -1.19615213e-17  8.85197969e-19 -1.43447466e-17\n",
      " -2.63062679e-17 -2.40592269e-18 -3.51809449e-18  4.65750316e-17\n",
      "  1.59789582e-17 -1.39815884e-17  6.08289887e-18  1.01684280e-17\n",
      " -6.45740570e-18 -6.11694494e-18 -2.18462319e-19  7.80790004e-18\n",
      " -3.13223897e-18  1.19728700e-18 -1.64556033e-19 -1.31644826e-18\n",
      " -8.65905193e-18 -3.22302850e-18  5.22039828e-19 -3.49539711e-18\n",
      " -2.15625146e-19  1.44355361e-17 -5.60625381e-18 -1.35389895e-17\n",
      "  4.72105584e-17  1.61605373e-17 -7.24046544e-18  3.01307770e-18\n",
      "  1.72386630e-17 -8.68174932e-19  3.14131792e-17]\n",
      "[1. 1. 1. 1. 1. 1. 1. 1. 1. 1. 1. 1. 1. 1. 1. 1. 1. 1. 1. 1. 1. 1. 1. 1.\n",
      " 1. 1. 1. 1. 1. 1. 1. 1. 1. 1. 1. 1. 1. 1. 1. 1. 1. 1. 1. 1. 1. 1. 1. 1.\n",
      " 1. 1. 1. 1. 1. 1. 1. 1. 1. 1. 1. 1. 1. 1. 1. 1. 1. 1. 1. 1. 1. 1. 1. 1.\n",
      " 1. 1. 1. 1. 1. 1. 1. 1. 1. 1. 1. 1. 1. 1. 1. 1. 1. 1. 1. 1. 1. 1. 1. 1.\n",
      " 1. 1. 1. 1. 1. 1. 1. 1. 1. 1. 1. 1. 1. 1. 1. 1. 1. 1. 1. 1. 1. 1. 1. 1.\n",
      " 1. 1. 1. 1. 1. 1. 1. 1. 1. 1. 1. 1. 1. 1. 1. 1. 1. 1. 1. 1. 1. 1. 1. 1.\n",
      " 1. 1. 1. 1. 1. 1. 1. 1. 1. 1. 1. 1. 1. 1. 1. 1. 1. 1. 1. 1. 1. 1. 1. 1.\n",
      " 1. 1. 1. 1. 1. 1. 1. 1. 1. 1. 1. 1. 1. 1. 1. 1. 1. 1. 1. 1. 1. 1. 1. 1.\n",
      " 1. 1. 1. 1. 1. 1. 1. 1. 1. 1. 1. 1. 1. 1. 1. 1. 1. 1. 1. 1. 1. 1. 1.]\n"
     ]
    }
   ],
   "source": [
    "print(base_scal.mean(axis=0))\n",
    "print(base_scal.std(axis=0))"
   ]
  },
  {
   "cell_type": "code",
   "execution_count": 19,
   "metadata": {},
   "outputs": [
    {
     "name": "stdout",
     "output_type": "stream",
     "text": [
      "lat                                                                                                                                                         -34.606402\n",
      "long                                                                                                                                                        -58.451981\n",
      "ABONOS DE DESCUENTO POR VOLUMEN - SUBTE                                                                                                                       0.000003\n",
      "ACCESO A LA INFORMACIÓN PÚBLICA                                                                                                                               0.003202\n",
      "ACCESOS CERRADOS - SUBTE                                                                                                                                      0.000152\n",
      "ACTIVIDAD DE BAILE EFECTUADA SIN PERMISO                                                                                                                      0.000358\n",
      "ALIMENTOS EN MALAS CONDICIONES                                                                                                                                0.001406\n",
      "ALMACENAMIENTO DE MATERIALES EN VÍA PÚBLICA                                                                                                                   0.000013\n",
      "ALTAS - BAJAS TEMPERATURAS - SUBTE                                                                                                                            0.000364\n",
      "ALTURA ANTIRREGLAMENTARIA EN OBRAS Y CONSTRUCCIONES                                                                                                           0.000551\n",
      "ANOMALÍAS EN PUESTO DE DIARIOS                                                                                                                                0.000248\n",
      "ASCENSORES FUERA DE SERVICIO DURANTE TRÁMITE                                                                                                                  0.000016\n",
      "ASENTAMIENTO DE RECUPERADORES URBANOS EN ESPACIO PÚBLICO                                                                                                      0.000473\n",
      "BAJA TARJETA EN TODO ESTAS VOS                                                                                                                                0.000045\n",
      "CAMIONES / CARROS RECUPERADORES QUE INTERRUMPEN EL TRÁNSITO                                                                                                   0.000144\n",
      "CAMIÓN DE RECOLECCIÓN QUE DESPIDE MALOS OLORES / LÍQUIDO                                                                                                      0.000026\n",
      "CAMIÓN DE RECOLECCIÓN QUE INCUMPLE NORMAS DE TRÁNSITO                                                                                                         0.000198\n",
      "CAMIÓN RECUPERADOR QUE INTERRUMPE EL TRÁNSITO                                                                                                                 0.000062\n",
      "CASA / TERRENO ABANDONADO                                                                                                                                     0.000549\n",
      "CASA / TERRENO OCUPADO ILEGÍTIMAMENTE                                                                                                                         0.000676\n",
      "CERRAMIENTO CLANDESTINO DE PATIO Y BALCÓN                                                                                                                     0.000454\n",
      "CONSTRUCCIÓN DE RAMPA DE ACCESIBILIDAD                                                                                                                        0.000533\n",
      "CONSTRUCCIÓN DE SUMIDERO/ALCANTARILLA O BOCA DE REGISTRO PLUVIAL                                                                                              0.000415\n",
      "CONSTRUCCIÓN SIN PERMISO                                                                                                                                      0.006988\n",
      "CONSULTA DE ESTADO DE EXPEDIENTE ANTE LA AGENCIA DE PROTECCIÓN AMBIENTAL.                                                                                     0.002693\n",
      "CONSULTA TÉCNICA SOBRE TRAMITES DE INSCRIPCIÓN EN EL REGISTRO DE ACTIVIDADES CATALOGADAS COMO POTENCIALMENTE CONTAMINANTES POR RUIDOS Y VIBRACIONES (RAC)     0.000096\n",
      "CONSULTA TÉCNICA SOBRE TRÁMITE DE CERTIFICADO DE APTITUD AMBIENTAL - LAVADEROS - ANTENAS.                                                                     0.000168\n",
      "CONSULTA TÉCNICA SOBRE TRÁMITE DE REGISTRO DE EMISIONES DE FUENTES FIJAS (REF) - PERMISOS DE VUELCOS DE EFLUENTES LÍQUIDOS                                    0.000160\n",
      "CONSULTA TÉCNICA SOBRE TRÁMITE DE REGISTRO DE RESIDUOS PELIGROSOS, PATOGÉNICOS, ASBESTOS Y ACEITES VEGETALES USADOS COMERCIALES                               0.000356\n",
      "CONSULTA TÉCNICA SOBRE TRÁMITES POR SITIOS CONTAMINADOS                                                                                                       0.000034\n",
      "                                                                                                                                                               ...    \n",
      "RETIRO DE AFICHES Y/O PASACALLES                                                                                                                              0.000462\n",
      "RETIRO DE ANIMALES MUERTOS EN VÍA PÚBLICA                                                                                                                     0.000755\n",
      "RETIRO DE ESCOMBROS / RESTOS DE OBRA                                                                                                                          0.126028\n",
      "RETIRO DE RESIDUOS VOLUMINOSOS (MUEBLES Y ELECTRODOMÉSTICOS)                                                                                                  0.046344\n",
      "RETIRO DE RESTOS DE JARDINERÍA DOMICILIARIA                                                                                                                   0.052646\n",
      "REUBICACIÓN DE CESTO PAPELERO                                                                                                                                 0.000482\n",
      "REUBICACIÓN DE CONTENEDOR                                                                                                                                     0.007884\n",
      "ROBOS O ILICITOS - SUBTE                                                                                                                                      0.000220\n",
      "RUIDOS MOLESTOS Y VIBRACIONES                                                                                                                                 0.006972\n",
      "SALAS DE ESPERA INADECUADAS DURANTE TRÁMITE                                                                                                                   0.000006\n",
      "SERVICIO DE ELECTRICIDAD                                                                                                                                      0.007436\n",
      "SISTEMA DE AUDIO EN COCHES Y ESTACIONES - SUBTE                                                                                                               0.000081\n",
      "SUPERMERCADOS, HIPERMERCADOS O AUTOSERVICIOS QUE ENTREGAN BOLSAS NO REUTILIZABLES                                                                             0.000011\n",
      "TAXI: IMPOSIBILIDAD DE PAGO A TRAVÉS DE LA APP BA TAXI                                                                                                        0.000083\n",
      "TAXI: IRREGULARIDADES EN CARTELERÍA                                                                                                                           0.000027\n",
      "TAXI: MAL FUNCIONAMIENTO DE LA APP BA TAXI                                                                                                                    0.001027\n",
      "TAXI: OBJETOS PERDIDOS EN VIAJE                                                                                                                               0.000334\n",
      "TAXI: PROBLEMAS DURANTE EL VIAJE                                                                                                                              0.000281\n",
      "TAXI: TARIFA MAL COBRADA                                                                                                                                      0.000366\n",
      "TAXI: VERIFICACIÓN DE HABILITACIÓN                                                                                                                            0.000040\n",
      "TERMINALES DE AUTOCONSULTA -SUBTE                                                                                                                             0.001140\n",
      "TRASCENDENCIA DE CALOR DESDE INSTALACIONES FIJAS COMERCIALES / INDUSTRIALES HACIA INMUEBLES LINDEROS                                                          0.000067\n",
      "VACIADO DE CAMPANA VERDE                                                                                                                                      0.001506\n",
      "VEHÍCULO MAL ESTACIONADO                                                                                                                                      0.310560\n",
      "VEHÍCULO OBSTRUYENDO GARAJE                                                                                                                                   0.016900\n",
      "VENTA / EXHIBICIÓN NO PERMITIDA DE BEBIDAS ALCOHÓLICA                                                                                                         0.000473\n",
      "VENTA AMBULANTE - SUBTE                                                                                                                                       0.000065\n",
      "VEREDA SUCIA POR MASCOTAS                                                                                                                                     0.000885\n",
      "WIFI - SUBTE                                                                                                                                                  0.000026\n",
      "ÁRBOL CON ENFERMEDADES/PLAGAS                                                                                                                                 0.001160\n",
      "Length: 215, dtype: float64\n"
     ]
    },
    {
     "name": "stdout",
     "output_type": "stream",
     "text": [
      "lat                                                                                                                                                          0.031550\n",
      "long                                                                                                                                                         0.040697\n",
      "ABONOS DE DESCUENTO POR VOLUMEN - SUBTE                                                                                                                      0.001787\n",
      "ACCESO A LA INFORMACIÓN PÚBLICA                                                                                                                              0.056499\n",
      "ACCESOS CERRADOS - SUBTE                                                                                                                                     0.012317\n",
      "ACTIVIDAD DE BAILE EFECTUADA SIN PERMISO                                                                                                                     0.018911\n",
      "ALIMENTOS EN MALAS CONDICIONES                                                                                                                               0.037464\n",
      "ALMACENAMIENTO DE MATERIALES EN VÍA PÚBLICA                                                                                                                  0.003575\n",
      "ALTAS - BAJAS TEMPERATURAS - SUBTE                                                                                                                           0.019079\n",
      "ALTURA ANTIRREGLAMENTARIA EN OBRAS Y CONSTRUCCIONES                                                                                                          0.023468\n",
      "ANOMALÍAS EN PUESTO DE DIARIOS                                                                                                                               0.015732\n",
      "ASCENSORES FUERA DE SERVICIO DURANTE TRÁMITE                                                                                                                 0.003996\n",
      "ASENTAMIENTO DE RECUPERADORES URBANOS EN ESPACIO PÚBLICO                                                                                                     0.021738\n",
      "BAJA TARJETA EN TODO ESTAS VOS                                                                                                                               0.006687\n",
      "CAMIONES / CARROS RECUPERADORES QUE INTERRUMPEN EL TRÁNSITO                                                                                                  0.011989\n",
      "CAMIÓN DE RECOLECCIÓN QUE DESPIDE MALOS OLORES / LÍQUIDO                                                                                                     0.005055\n",
      "CAMIÓN DE RECOLECCIÓN QUE INCUMPLE NORMAS DE TRÁNSITO                                                                                                        0.014072\n",
      "CAMIÓN RECUPERADOR QUE INTERRUMPE EL TRÁNSITO                                                                                                                0.007892\n",
      "CASA / TERRENO ABANDONADO                                                                                                                                    0.023434\n",
      "CASA / TERRENO OCUPADO ILEGÍTIMAMENTE                                                                                                                        0.025984\n",
      "CERRAMIENTO CLANDESTINO DE PATIO Y BALCÓN                                                                                                                    0.021293\n",
      "CONSTRUCCIÓN DE RAMPA DE ACCESIBILIDAD                                                                                                                       0.023091\n",
      "CONSTRUCCIÓN DE SUMIDERO/ALCANTARILLA O BOCA DE REGISTRO PLUVIAL                                                                                             0.020374\n",
      "CONSTRUCCIÓN SIN PERMISO                                                                                                                                     0.083300\n",
      "CONSULTA DE ESTADO DE EXPEDIENTE ANTE LA AGENCIA DE PROTECCIÓN AMBIENTAL.                                                                                    0.051823\n",
      "CONSULTA TÉCNICA SOBRE TRAMITES DE INSCRIPCIÓN EN EL REGISTRO DE ACTIVIDADES CATALOGADAS COMO POTENCIALMENTE CONTAMINANTES POR RUIDOS Y VIBRACIONES (RAC)    0.009789\n",
      "CONSULTA TÉCNICA SOBRE TRÁMITE DE CERTIFICADO DE APTITUD AMBIENTAL - LAVADEROS - ANTENAS.                                                                    0.012949\n",
      "CONSULTA TÉCNICA SOBRE TRÁMITE DE REGISTRO DE EMISIONES DE FUENTES FIJAS (REF) - PERMISOS DE VUELCOS DE EFLUENTES LÍQUIDOS                                   0.012637\n",
      "CONSULTA TÉCNICA SOBRE TRÁMITE DE REGISTRO DE RESIDUOS PELIGROSOS, PATOGÉNICOS, ASBESTOS Y ACEITES VEGETALES USADOS COMERCIALES                              0.018869\n",
      "CONSULTA TÉCNICA SOBRE TRÁMITES POR SITIOS CONTAMINADOS                                                                                                      0.005791\n",
      "                                                                                                                                                               ...   \n",
      "RETIRO DE AFICHES Y/O PASACALLES                                                                                                                             0.021480\n",
      "RETIRO DE ANIMALES MUERTOS EN VÍA PÚBLICA                                                                                                                    0.027475\n",
      "RETIRO DE ESCOMBROS / RESTOS DE OBRA                                                                                                                         0.331881\n",
      "RETIRO DE RESIDUOS VOLUMINOSOS (MUEBLES Y ELECTRODOMÉSTICOS)                                                                                                 0.210229\n",
      "RETIRO DE RESTOS DE JARDINERÍA DOMICILIARIA                                                                                                                  0.223327\n",
      "REUBICACIÓN DE CESTO PAPELERO                                                                                                                                0.021957\n",
      "REUBICACIÓN DE CONTENEDOR                                                                                                                                    0.088440\n",
      "ROBOS O ILICITOS - SUBTE                                                                                                                                     0.014845\n",
      "RUIDOS MOLESTOS Y VIBRACIONES                                                                                                                                0.083205\n",
      "SALAS DE ESPERA INADECUADAS DURANTE TRÁMITE                                                                                                                  0.002528\n",
      "SERVICIO DE ELECTRICIDAD                                                                                                                                     0.085914\n",
      "SISTEMA DE AUDIO EN COCHES Y ESTACIONES - SUBTE                                                                                                              0.009025\n",
      "SUPERMERCADOS, HIPERMERCADOS O AUTOSERVICIOS QUE ENTREGAN BOLSAS NO REUTILIZABLES                                                                            0.003344\n",
      "TAXI: IMPOSIBILIDAD DE PAGO A TRAVÉS DE LA APP BA TAXI                                                                                                       0.009113\n",
      "TAXI: IRREGULARIDADES EN CARTELERÍA                                                                                                                          0.005211\n",
      "TAXI: MAL FUNCIONAMIENTO DE LA APP BA TAXI                                                                                                                   0.032030\n",
      "TAXI: OBJETOS PERDIDOS EN VIAJE                                                                                                                              0.018267\n",
      "TAXI: PROBLEMAS DURANTE EL VIAJE                                                                                                                             0.016764\n",
      "TAXI: TARIFA MAL COBRADA                                                                                                                                     0.019121\n",
      "TAXI: VERIFICACIÓN DE HABILITACIÓN                                                                                                                           0.006319\n",
      "TERMINALES DE AUTOCONSULTA -SUBTE                                                                                                                            0.033750\n",
      "TRASCENDENCIA DE CALOR DESDE INSTALACIONES FIJAS COMERCIALES / INDUSTRIALES HACIA INMUEBLES LINDEROS                                                         0.008190\n",
      "VACIADO DE CAMPANA VERDE                                                                                                                                     0.038780\n",
      "VEHÍCULO MAL ESTACIONADO                                                                                                                                     0.462723\n",
      "VEHÍCULO OBSTRUYENDO GARAJE                                                                                                                                  0.128896\n",
      "VENTA / EXHIBICIÓN NO PERMITIDA DE BEBIDAS ALCOHÓLICA                                                                                                        0.021738\n",
      "VENTA AMBULANTE - SUBTE                                                                                                                                      0.008092\n",
      "VEREDA SUCIA POR MASCOTAS                                                                                                                                    0.029733\n",
      "WIFI - SUBTE                                                                                                                                                 0.005055\n",
      "ÁRBOL CON ENFERMEDADES/PLAGAS                                                                                                                                0.034033\n",
      "Length: 215, dtype: float64\n"
     ]
    }
   ],
   "source": [
    "# ejercicio, calculo los valores de media y sdv para la base original\n",
    "print(base2019_dummies.mean(axis=0))\n",
    "print(base2019_dummies.std(axis=0))"
   ]
  },
  {
   "cell_type": "markdown",
   "metadata": {},
   "source": [
    "Para las variables dummies, al ser una matriz sparse, tanto la media como el desvío estándar son cercanos a 0.\n",
    "En el caso del par de coordenadas, la media está dentro del rango de latitudes/longitud, y el desvío estándar es cercano a 0."
   ]
  },
  {
   "cell_type": "code",
   "execution_count": 20,
   "metadata": {},
   "outputs": [
    {
     "data": {
      "text/plain": [
       "(626101, 2)"
      ]
     },
     "execution_count": 20,
     "metadata": {},
     "output_type": "execute_result"
    }
   ],
   "source": [
    "# defino los subconjuntos sobre el dataset normalizado\n",
    "coord_scal = base_scal[:,0:2]\n",
    "coord_scal.shape"
   ]
  },
  {
   "cell_type": "code",
   "execution_count": 23,
   "metadata": {},
   "outputs": [
    {
     "data": {
      "text/plain": [
       "(626101, 213)"
      ]
     },
     "execution_count": 23,
     "metadata": {},
     "output_type": "execute_result"
    }
   ],
   "source": [
    "concepto_scal = base_scal[:,2:]\n",
    "concepto_scal.shape"
   ]
  },
  {
   "cell_type": "code",
   "execution_count": 24,
   "metadata": {},
   "outputs": [],
   "source": [
    "# corremos a continuación modelos de clusterizacion con k=10 sobre los subconjuntos\n",
    "base10_scal = KMeans(n_clusters=10, random_state=14).fit(base_scal)\n",
    "base10_scal = base10_scal.labels_\n",
    "coord10_scal = KMeans(n_clusters=10, random_state=14).fit(coord_scal)\n",
    "coord10_scal = coord10_scal.labels_\n",
    "concepto10_scal = KMeans(n_clusters=10, random_state=14).fit(concepto_scal)\n",
    "concepto10_scal = concepto10_scal.labels_"
   ]
  },
  {
   "cell_type": "code",
   "execution_count": 25,
   "metadata": {},
   "outputs": [],
   "source": [
    "# calculamos el SS para los nuevos modelos obtenidos\n",
    "score_base10_scal = silhouette_score(base_scal, base10_scal, sample_size=156525)\n",
    "score_coord10_scal = silhouette_score(coord_scal, coord10_scal, sample_size=156525)\n",
    "score_concepto10_scal = silhouette_score(concepto_scal, concepto10_scal, sample_size=156525)"
   ]
  },
  {
   "cell_type": "code",
   "execution_count": 26,
   "metadata": {},
   "outputs": [
    {
     "name": "stdout",
     "output_type": "stream",
     "text": [
      "-0.09664627108947425\n",
      "0.36546332188967073\n",
      "-0.14950984920859503\n"
     ]
    }
   ],
   "source": [
    "# comparo los resultados obtenidos\n",
    "print(score_base10_scal)\n",
    "print(score_coord10_scal)\n",
    "print(score_concepto10_scal)"
   ]
  },
  {
   "cell_type": "markdown",
   "metadata": {},
   "source": [
    "Algunos comentarios sobre nuestro experimento:\n",
    "- el Score obtenido para el dataset con el par de coordenadas no parece ser afectado por la normalización\n",
    "- sí se aprecia una diferencia notoria para el subconjunto de variables dummies\n",
    "- el Score sobre la base conjunta, al componerse de estos dos subconjuntos, se ve afectado en consecuencia\n",
    "- vamos a avanzar con la clusterización sobre la base sin normalizar por ser la que presenta mejores resultados"
   ]
  },
  {
   "cell_type": "code",
   "execution_count": 27,
   "metadata": {},
   "outputs": [],
   "source": [
    "# lista donde vamos a guardar las etiquetas generadas por el modelo de clustering\n",
    "labels = []"
   ]
  },
  {
   "cell_type": "code",
   "execution_count": 28,
   "metadata": {},
   "outputs": [
    {
     "name": "stdout",
     "output_type": "stream",
     "text": [
      "1027.9879098370002\n"
     ]
    }
   ],
   "source": [
    "# generamos sucesivos modelos de clusterización, en busca del hiperparámetro k que arroje el nro. óptimo de clusters\n",
    "# iteramos el número de clusters en el rango 2-20\n",
    "start_time = timeit.default_timer()\n",
    "for num in range (2, 21):\n",
    "  kmeans = KMeans(n_clusters=num, random_state=14)\n",
    "  kmeans.fit(base2019_dummies)\n",
    "  labels.append(kmeans.labels_)\n",
    "elapsed = timeit.default_timer()-start_time\n",
    "print(elapsed)"
   ]
  },
  {
   "cell_type": "code",
   "execution_count": 29,
   "metadata": {},
   "outputs": [
    {
     "data": {
      "text/plain": [
       "[array([1, 1, 0, ..., 0, 0, 1], dtype=int32),\n",
       " array([1, 1, 0, ..., 0, 0, 1], dtype=int32),\n",
       " array([2, 2, 1, ..., 1, 1, 2], dtype=int32),\n",
       " array([2, 2, 3, ..., 3, 3, 2], dtype=int32),\n",
       " array([0, 0, 4, ..., 4, 4, 0], dtype=int32),\n",
       " array([1, 1, 5, ..., 5, 5, 1], dtype=int32),\n",
       " array([0, 0, 3, ..., 3, 3, 0], dtype=int32),\n",
       " array([0, 0, 7, ..., 7, 7, 0], dtype=int32),\n",
       " array([1, 1, 3, ..., 3, 3, 1], dtype=int32),\n",
       " array([1, 1, 8, ..., 8, 8, 1], dtype=int32),\n",
       " array([1, 1, 7, ..., 7, 7, 1], dtype=int32),\n",
       " array([ 1,  1, 12, ..., 12, 12,  1], dtype=int32),\n",
       " array([1, 1, 7, ..., 7, 7, 1], dtype=int32),\n",
       " array([ 1,  1, 13, ..., 13, 13,  1], dtype=int32),\n",
       " array([ 0,  0, 13, ..., 13, 13,  0], dtype=int32),\n",
       " array([ 1,  1,  8, ...,  8, 16,  1], dtype=int32),\n",
       " array([ 1,  1,  0, ...,  0, 14,  1], dtype=int32),\n",
       " array([ 1,  1, 18, ..., 18, 18,  1], dtype=int32),\n",
       " array([ 1,  1, 15, ..., 15, 17,  1], dtype=int32)]"
      ]
     },
     "execution_count": 29,
     "metadata": {},
     "output_type": "execute_result"
    }
   ],
   "source": [
    "# observamos las etiquetas generadas\n",
    "labels"
   ]
  },
  {
   "cell_type": "code",
   "execution_count": 30,
   "metadata": {},
   "outputs": [],
   "source": [
    "# definimos una lista donde vamos a guardar los Silhouette Scores para cada iteración\n",
    "scores = []"
   ]
  },
  {
   "cell_type": "markdown",
   "metadata": {},
   "source": [
    "El costo computacional del algoritmo que determina el Silhouette Score es muy alto, resultando inviable calcular el mismo sobre la totalidad de los puntos en nuestro dataset.\n",
    "Dado que vamos a utilizar este Score para determinar el número óptimo de clusters para nuestro ejercicio, debemos además calcular este valor para cada una de las iteraciones.\n",
    "Por tanto vamos a calcular el Silhouette sobre una muestra equivalente al 25% de los samples en nuestra base."
   ]
  },
  {
   "cell_type": "code",
   "execution_count": 31,
   "metadata": {},
   "outputs": [
    {
     "name": "stdout",
     "output_type": "stream",
     "text": [
      "1469.0076419310008\n"
     ]
    }
   ],
   "source": [
    "# cálculo del Silhouette Score para cada iteración\n",
    "# fraccionamos esta corrida en varias partes para evitar que se interrumpa\n",
    "start_time = timeit.default_timer()\n",
    "for res in range (1, 5):\n",
    "  scores.append(silhouette_score(base2019_dummies, labels[res-1], sample_size=156525))\n",
    "elapsed = timeit.default_timer()-start_time\n",
    "print(elapsed)"
   ]
  },
  {
   "cell_type": "code",
   "execution_count": 32,
   "metadata": {},
   "outputs": [
    {
     "data": {
      "text/plain": [
       "[0.33792724873206836,\n",
       " 0.439997591339782,\n",
       " 0.48861314408758105,\n",
       " 0.5374049616104726]"
      ]
     },
     "execution_count": 32,
     "metadata": {},
     "output_type": "execute_result"
    }
   ],
   "source": [
    "scores"
   ]
  },
  {
   "cell_type": "code",
   "execution_count": 33,
   "metadata": {},
   "outputs": [
    {
     "name": "stdout",
     "output_type": "stream",
     "text": [
      "1969.2944157880002\n"
     ]
    }
   ],
   "source": [
    "start_time = timeit.default_timer()\n",
    "for res in range (5, 10):\n",
    "  scores.append(silhouette_score(base2019_dummies, labels[res-1], sample_size=156525))\n",
    "elapsed = timeit.default_timer()-start_time\n",
    "print(elapsed)"
   ]
  },
  {
   "cell_type": "code",
   "execution_count": 34,
   "metadata": {},
   "outputs": [
    {
     "data": {
      "text/plain": [
       "[0.33792724873206836,\n",
       " 0.439997591339782,\n",
       " 0.48861314408758105,\n",
       " 0.5374049616104726,\n",
       " 0.5630502930358205,\n",
       " 0.5978683693759277,\n",
       " 0.6250580606459699,\n",
       " 0.6432568691490489,\n",
       " 0.6600502843452842]"
      ]
     },
     "execution_count": 34,
     "metadata": {},
     "output_type": "execute_result"
    }
   ],
   "source": [
    "scores"
   ]
  },
  {
   "cell_type": "code",
   "execution_count": 35,
   "metadata": {},
   "outputs": [
    {
     "name": "stdout",
     "output_type": "stream",
     "text": [
      "1961.4701145640001\n"
     ]
    }
   ],
   "source": [
    "start_time = timeit.default_timer()\n",
    "for res in range (10, 15):\n",
    "  scores.append(silhouette_score(base2019_dummies, labels[res-1], sample_size=156525))\n",
    "elapsed = timeit.default_timer()-start_time\n",
    "print(elapsed)"
   ]
  },
  {
   "cell_type": "code",
   "execution_count": 36,
   "metadata": {},
   "outputs": [
    {
     "data": {
      "text/plain": [
       "[0.33792724873206836,\n",
       " 0.439997591339782,\n",
       " 0.48861314408758105,\n",
       " 0.5374049616104726,\n",
       " 0.5630502930358205,\n",
       " 0.5978683693759277,\n",
       " 0.6250580606459699,\n",
       " 0.6432568691490489,\n",
       " 0.6600502843452842,\n",
       " 0.6759061821357895,\n",
       " 0.6884294612294964,\n",
       " 0.7028051851200853,\n",
       " 0.715069498444841,\n",
       " 0.7264878318867205]"
      ]
     },
     "execution_count": 36,
     "metadata": {},
     "output_type": "execute_result"
    }
   ],
   "source": [
    "scores"
   ]
  },
  {
   "cell_type": "code",
   "execution_count": 37,
   "metadata": {},
   "outputs": [
    {
     "name": "stdout",
     "output_type": "stream",
     "text": [
      "1969.889750671\n"
     ]
    }
   ],
   "source": [
    "start_time = timeit.default_timer()\n",
    "for res in range (15, 20):\n",
    "  scores.append(silhouette_score(base2019_dummies, labels[res-1], sample_size=156525))\n",
    "elapsed = timeit.default_timer()-start_time\n",
    "print(elapsed)"
   ]
  },
  {
   "cell_type": "code",
   "execution_count": 38,
   "metadata": {},
   "outputs": [
    {
     "data": {
      "text/plain": [
       "[0.33792724873206836,\n",
       " 0.439997591339782,\n",
       " 0.48861314408758105,\n",
       " 0.5374049616104726,\n",
       " 0.5630502930358205,\n",
       " 0.5978683693759277,\n",
       " 0.6250580606459699,\n",
       " 0.6432568691490489,\n",
       " 0.6600502843452842,\n",
       " 0.6759061821357895,\n",
       " 0.6884294612294964,\n",
       " 0.7028051851200853,\n",
       " 0.715069498444841,\n",
       " 0.7264878318867205,\n",
       " 0.7415511432966558,\n",
       " 0.7432938673920847,\n",
       " 0.7584287477966034,\n",
       " 0.768563187520407,\n",
       " 0.7729680171293019]"
      ]
     },
     "execution_count": 38,
     "metadata": {},
     "output_type": "execute_result"
    }
   ],
   "source": [
    "scores"
   ]
  },
  {
   "cell_type": "code",
   "execution_count": 39,
   "metadata": {},
   "outputs": [
    {
     "name": "stdout",
     "output_type": "stream",
     "text": [
      "903.1988267200013\n"
     ]
    }
   ],
   "source": [
    "# cerrado el análisis hasta k=20 el SS muestra tendencia creciente\n",
    "# continuamos iterandos el número de clusters en el rango 21-30\n",
    "start_time = timeit.default_timer()\n",
    "for num in range (21, 31):\n",
    "  kmeans = KMeans(n_clusters=num, random_state=14)\n",
    "  kmeans.fit(base2019_dummies)\n",
    "  labels.append(kmeans.labels_)\n",
    "elapsed = timeit.default_timer()-start_time\n",
    "print(elapsed)"
   ]
  },
  {
   "cell_type": "code",
   "execution_count": 41,
   "metadata": {},
   "outputs": [
    {
     "data": {
      "text/plain": [
       "29"
      ]
     },
     "execution_count": 41,
     "metadata": {},
     "output_type": "execute_result"
    }
   ],
   "source": [
    "len(labels)"
   ]
  },
  {
   "cell_type": "code",
   "execution_count": 42,
   "metadata": {},
   "outputs": [
    {
     "name": "stdout",
     "output_type": "stream",
     "text": [
      "1940.9509424619991\n"
     ]
    }
   ],
   "source": [
    "# evaluamos el SS para estos nuevos modelos\n",
    "start_time = timeit.default_timer()\n",
    "for res in range (20, 25):\n",
    "  scores.append(silhouette_score(base2019_dummies, labels[res-1], sample_size=156525))\n",
    "elapsed = timeit.default_timer()-start_time\n",
    "print(elapsed)"
   ]
  },
  {
   "cell_type": "code",
   "execution_count": 43,
   "metadata": {},
   "outputs": [
    {
     "data": {
      "text/plain": [
       "[0.33792724873206836,\n",
       " 0.439997591339782,\n",
       " 0.48861314408758105,\n",
       " 0.5374049616104726,\n",
       " 0.5630502930358205,\n",
       " 0.5978683693759277,\n",
       " 0.6250580606459699,\n",
       " 0.6432568691490489,\n",
       " 0.6600502843452842,\n",
       " 0.6759061821357895,\n",
       " 0.6884294612294964,\n",
       " 0.7028051851200853,\n",
       " 0.715069498444841,\n",
       " 0.7264878318867205,\n",
       " 0.7415511432966558,\n",
       " 0.7432938673920847,\n",
       " 0.7584287477966034,\n",
       " 0.768563187520407,\n",
       " 0.7729680171293019,\n",
       " 0.7814471546555716,\n",
       " 0.792252780992064,\n",
       " 0.7992741379647419,\n",
       " 0.8065841218383616,\n",
       " 0.8126162601459194]"
      ]
     },
     "execution_count": 43,
     "metadata": {},
     "output_type": "execute_result"
    }
   ],
   "source": [
    "scores"
   ]
  },
  {
   "cell_type": "code",
   "execution_count": 44,
   "metadata": {},
   "outputs": [
    {
     "name": "stdout",
     "output_type": "stream",
     "text": [
      "1785.0645131340007\n"
     ]
    }
   ],
   "source": [
    "# evaluamos el SS para estos nuevos modelos\n",
    "start_time = timeit.default_timer()\n",
    "for res in range (25, 30):\n",
    "  scores.append(silhouette_score(base2019_dummies, labels[res-1], sample_size=156525))\n",
    "elapsed = timeit.default_timer()-start_time\n",
    "print(elapsed)"
   ]
  },
  {
   "cell_type": "code",
   "execution_count": 45,
   "metadata": {},
   "outputs": [
    {
     "data": {
      "text/plain": [
       "[0.33792724873206836,\n",
       " 0.439997591339782,\n",
       " 0.48861314408758105,\n",
       " 0.5374049616104726,\n",
       " 0.5630502930358205,\n",
       " 0.5978683693759277,\n",
       " 0.6250580606459699,\n",
       " 0.6432568691490489,\n",
       " 0.6600502843452842,\n",
       " 0.6759061821357895,\n",
       " 0.6884294612294964,\n",
       " 0.7028051851200853,\n",
       " 0.715069498444841,\n",
       " 0.7264878318867205,\n",
       " 0.7415511432966558,\n",
       " 0.7432938673920847,\n",
       " 0.7584287477966034,\n",
       " 0.768563187520407,\n",
       " 0.7729680171293019,\n",
       " 0.7814471546555716,\n",
       " 0.792252780992064,\n",
       " 0.7992741379647419,\n",
       " 0.8065841218383616,\n",
       " 0.8126162601459194,\n",
       " 0.8203013386463444,\n",
       " 0.8233667021797498,\n",
       " 0.8323457513637154,\n",
       " 0.8369825970441148,\n",
       " 0.8425210868839164]"
      ]
     },
     "execution_count": 45,
     "metadata": {},
     "output_type": "execute_result"
    }
   ],
   "source": [
    "scores"
   ]
  },
  {
   "cell_type": "markdown",
   "metadata": {},
   "source": [
    "Estoy empezando a sospechar que el resultado óptimo para el número de clusters es igual al número de categorías diferentes en la variable \"concepto\". <br>\n",
    "Por las características de mi matriz de datos, si la diferencia en distancia geográfica no es significativa, no veo que el algoritmo tenga incentivos para agrupar categorías, siendo la solución óptima clasificar cada sample bajo la categoría reportada en concepto.<br>\n",
    "Si en lugar de utilizar concepto utilizo un nivel de agrupación superior (categoría, subcategoría) para la clusterización, el resultado será similar, con un menor nivel de clusters. <br>\n",
    "¿Podemos redefinir el problema y sacar un aprendizaje a partir de esto? Un ejemplo: a excepción de las dos categorías principales (Limpieza y recolección, Tránsito, que por su gran cantidad de casos es de esperar se distribuyan por toda la ciudad), ¿podemos ver un patrón de distribución de los contactos por categoría en alguna región geográfica en particular?"
   ]
  },
  {
   "cell_type": "code",
   "execution_count": 47,
   "metadata": {},
   "outputs": [],
   "source": [
    "# por lo visto no estamos cerca de la cota superior\n",
    "# pruebo un método más eficiente para ver la convergencia\n",
    "kmeans100 = KMeans(n_clusters=100, random_state=14).fit(base2019_dummies)\n",
    "kmeans100 = kmeans100.labels_ "
   ]
  },
  {
   "cell_type": "code",
   "execution_count": 48,
   "metadata": {},
   "outputs": [
    {
     "data": {
      "text/plain": [
       "0.942616033430552"
      ]
     },
     "execution_count": 48,
     "metadata": {},
     "output_type": "execute_result"
    }
   ],
   "source": [
    "score100 = silhouette_score(base2019_dummies, kmeans100, sample_size=156525)\n",
    "score100"
   ]
  },
  {
   "cell_type": "code",
   "execution_count": 49,
   "metadata": {},
   "outputs": [],
   "source": [
    "# intentamos con valores más cerca del límite\n",
    "kmeans200 = KMeans(n_clusters=200, random_state=14).fit(base2019_dummies)\n",
    "kmeans200 = kmeans200.labels_ "
   ]
  },
  {
   "cell_type": "code",
   "execution_count": 50,
   "metadata": {},
   "outputs": [
    {
     "data": {
      "text/plain": [
       "0.5962918323210981"
      ]
     },
     "execution_count": 50,
     "metadata": {},
     "output_type": "execute_result"
    }
   ],
   "source": [
    "score200 = silhouette_score(base2019_dummies, kmeans200, sample_size=156525)\n",
    "score200"
   ]
  },
  {
   "cell_type": "markdown",
   "metadata": {},
   "source": [
    "Una luz de esperanza!"
   ]
  },
  {
   "cell_type": "code",
   "execution_count": 51,
   "metadata": {},
   "outputs": [],
   "source": [
    "# buscando el número óptimo\n",
    "kmeans150 = KMeans(n_clusters=150, random_state=14).fit(base2019_dummies)\n",
    "kmeans150 = kmeans150.labels_ "
   ]
  },
  {
   "cell_type": "code",
   "execution_count": 52,
   "metadata": {},
   "outputs": [
    {
     "data": {
      "text/plain": [
       "0.6981477481956232"
      ]
     },
     "execution_count": 52,
     "metadata": {},
     "output_type": "execute_result"
    }
   ],
   "source": [
    "score150 = silhouette_score(base2019_dummies, kmeans150, sample_size=156525)\n",
    "score150"
   ]
  },
  {
   "cell_type": "markdown",
   "metadata": {},
   "source": [
    "NdA: aquí podría haber armado un lindo script usando if dentro de un loop para encontrar el valor óptimo, pero me temo que por el tiempo que demanda la corrida del SS colapse antes de entregar un resultado. <br>\n",
    "Así que sigo buscando a mano.\n"
   ]
  },
  {
   "cell_type": "code",
   "execution_count": 53,
   "metadata": {},
   "outputs": [],
   "source": [
    "# buscando el número óptimo\n",
    "kmeans125 = KMeans(n_clusters=125, random_state=14).fit(base2019_dummies)\n",
    "kmeans125 = kmeans125.labels_ "
   ]
  },
  {
   "cell_type": "code",
   "execution_count": 54,
   "metadata": {},
   "outputs": [
    {
     "data": {
      "text/plain": [
       "0.7719284023508081"
      ]
     },
     "execution_count": 54,
     "metadata": {},
     "output_type": "execute_result"
    }
   ],
   "source": [
    "score125 = silhouette_score(base2019_dummies, kmeans125, sample_size=156525)\n",
    "score125"
   ]
  },
  {
   "cell_type": "code",
   "execution_count": 55,
   "metadata": {},
   "outputs": [],
   "source": [
    "# buscando el número óptimo\n",
    "kmeans75 = KMeans(n_clusters=75, random_state=14).fit(base2019_dummies)\n",
    "kmeans75 = kmeans75.labels_"
   ]
  },
  {
   "cell_type": "code",
   "execution_count": 56,
   "metadata": {},
   "outputs": [
    {
     "data": {
      "text/plain": [
       "0.9290586071549265"
      ]
     },
     "execution_count": 56,
     "metadata": {},
     "output_type": "execute_result"
    }
   ],
   "source": [
    "score75 = silhouette_score(base2019_dummies, kmeans75, sample_size=156525)\n",
    "score75"
   ]
  },
  {
   "cell_type": "code",
   "execution_count": 57,
   "metadata": {},
   "outputs": [],
   "source": [
    "# buscando el número óptimo\n",
    "kmeans87 = KMeans(n_clusters=87, random_state=14).fit(base2019_dummies)\n",
    "kmeans87 = kmeans87.labels_"
   ]
  },
  {
   "cell_type": "code",
   "execution_count": 58,
   "metadata": {},
   "outputs": [
    {
     "data": {
      "text/plain": [
       "0.9364989647791528"
      ]
     },
     "execution_count": 58,
     "metadata": {},
     "output_type": "execute_result"
    }
   ],
   "source": [
    "score87 = silhouette_score(base2019_dummies, kmeans87, sample_size=156525)\n",
    "score87"
   ]
  },
  {
   "cell_type": "code",
   "execution_count": 59,
   "metadata": {},
   "outputs": [],
   "source": [
    "# buscando el número óptimo\n",
    "kmeans93 = KMeans(n_clusters=93, random_state=14).fit(base2019_dummies)\n",
    "kmeans93 = kmeans93.labels_"
   ]
  },
  {
   "cell_type": "code",
   "execution_count": 60,
   "metadata": {},
   "outputs": [
    {
     "data": {
      "text/plain": [
       "0.9396861812460464"
      ]
     },
     "execution_count": 60,
     "metadata": {},
     "output_type": "execute_result"
    }
   ],
   "source": [
    "score93 = silhouette_score(base2019_dummies, kmeans93, sample_size=156525)\n",
    "score93"
   ]
  },
  {
   "cell_type": "code",
   "execution_count": 61,
   "metadata": {},
   "outputs": [],
   "source": [
    "# buscando el número óptimo\n",
    "kmeans97 = KMeans(n_clusters=97, random_state=14).fit(base2019_dummies)\n",
    "kmeans97 = kmeans97.labels_"
   ]
  },
  {
   "cell_type": "code",
   "execution_count": 62,
   "metadata": {},
   "outputs": [
    {
     "data": {
      "text/plain": [
       "0.9412534944820398"
      ]
     },
     "execution_count": 62,
     "metadata": {},
     "output_type": "execute_result"
    }
   ],
   "source": [
    "score97 = silhouette_score(base2019_dummies, kmeans97, sample_size=156525)\n",
    "score97"
   ]
  },
  {
   "cell_type": "code",
   "execution_count": 63,
   "metadata": {},
   "outputs": [],
   "source": [
    "labels_final = []"
   ]
  },
  {
   "cell_type": "code",
   "execution_count": 64,
   "metadata": {},
   "outputs": [
    {
     "name": "stdout",
     "output_type": "stream",
     "text": [
      "1759.2950137280022\n"
     ]
    }
   ],
   "source": [
    "# a ver si con esto cerramos\n",
    "start_time = timeit.default_timer()\n",
    "for num in range (98, 105):\n",
    "  kmeans = KMeans(n_clusters=num, random_state=14)\n",
    "  kmeans.fit(base2019_dummies)\n",
    "  labels_final.append(kmeans.labels_)\n",
    "elapsed = timeit.default_timer()-start_time\n",
    "print(elapsed)"
   ]
  },
  {
   "cell_type": "code",
   "execution_count": 65,
   "metadata": {},
   "outputs": [],
   "source": [
    "scores_final = []"
   ]
  },
  {
   "cell_type": "code",
   "execution_count": 69,
   "metadata": {},
   "outputs": [
    {
     "name": "stdout",
     "output_type": "stream",
     "text": [
      "2488.9625945000007\n"
     ]
    }
   ],
   "source": [
    "start_time = timeit.default_timer()\n",
    "for res in range (1, 8):\n",
    "  scores_final.append(silhouette_score(base2019_dummies, labels_final[res-1], sample_size=156525))\n",
    "elapsed = timeit.default_timer()-start_time\n",
    "print(elapsed)"
   ]
  },
  {
   "cell_type": "code",
   "execution_count": 70,
   "metadata": {},
   "outputs": [
    {
     "data": {
      "text/plain": [
       "[0.7628545766109965,\n",
       " 0.942014074717975,\n",
       " 0.9425037158552472,\n",
       " 0.9430208667536918,\n",
       " 0.9432841002448835,\n",
       " 0.7642576157923179,\n",
       " 0.944328424221543]"
      ]
     },
     "execution_count": 70,
     "metadata": {},
     "output_type": "execute_result"
    }
   ],
   "source": [
    "scores_final"
   ]
  },
  {
   "cell_type": "markdown",
   "metadata": {},
   "source": [
    "OK, identificamos el número óptimo de clusters. Pero a fines del objetivo que nos propusimos, ¿tiene sentido hablar de 100 clusters? ¿Facilita esta división la jerarquización / atención de los incidentes reportados en los contactos? <br>\n",
    "Pareciera ser más certero utilizar la agrupación en categorías (17 en total) o subcategorías (58) y ver en ese caso si llegamos a un número más reducido de clusters. (Pienso en el plot sobre el mapa, pareciera ser imposible la identificación de los 100 clusters si ploteamos en conjunto)."
   ]
  },
  {
   "cell_type": "code",
   "execution_count": 71,
   "metadata": {},
   "outputs": [
    {
     "data": {
      "text/html": [
       "<div>\n",
       "<style scoped>\n",
       "    .dataframe tbody tr th:only-of-type {\n",
       "        vertical-align: middle;\n",
       "    }\n",
       "\n",
       "    .dataframe tbody tr th {\n",
       "        vertical-align: top;\n",
       "    }\n",
       "\n",
       "    .dataframe thead th {\n",
       "        text-align: right;\n",
       "    }\n",
       "</style>\n",
       "<table border=\"1\" class=\"dataframe\">\n",
       "  <thead>\n",
       "    <tr style=\"text-align: right;\">\n",
       "      <th></th>\n",
       "      <th>lat</th>\n",
       "      <th>long</th>\n",
       "      <th>label</th>\n",
       "    </tr>\n",
       "    <tr>\n",
       "      <th>contacto</th>\n",
       "      <th></th>\n",
       "      <th></th>\n",
       "      <th></th>\n",
       "    </tr>\n",
       "  </thead>\n",
       "  <tbody>\n",
       "    <tr>\n",
       "      <th>00000001/19</th>\n",
       "      <td>-34.634060</td>\n",
       "      <td>-58.466561</td>\n",
       "      <td>1</td>\n",
       "    </tr>\n",
       "    <tr>\n",
       "      <th>00000002/19</th>\n",
       "      <td>-34.628162</td>\n",
       "      <td>-58.443378</td>\n",
       "      <td>1</td>\n",
       "    </tr>\n",
       "    <tr>\n",
       "      <th>00000003/19</th>\n",
       "      <td>-34.623324</td>\n",
       "      <td>-58.469810</td>\n",
       "      <td>12</td>\n",
       "    </tr>\n",
       "    <tr>\n",
       "      <th>00000005/19</th>\n",
       "      <td>-34.618464</td>\n",
       "      <td>-58.445304</td>\n",
       "      <td>1</td>\n",
       "    </tr>\n",
       "    <tr>\n",
       "      <th>00000006/19</th>\n",
       "      <td>-34.634200</td>\n",
       "      <td>-58.528355</td>\n",
       "      <td>1</td>\n",
       "    </tr>\n",
       "  </tbody>\n",
       "</table>\n",
       "</div>"
      ],
      "text/plain": [
       "                   lat       long  label\n",
       "contacto                                \n",
       "00000001/19 -34.634060 -58.466561      1\n",
       "00000002/19 -34.628162 -58.443378      1\n",
       "00000003/19 -34.623324 -58.469810     12\n",
       "00000005/19 -34.618464 -58.445304      1\n",
       "00000006/19 -34.634200 -58.528355      1"
      ]
     },
     "execution_count": 71,
     "metadata": {},
     "output_type": "execute_result"
    }
   ],
   "source": [
    "# a efectos de graficar los clusters obtenidos sobre el mapa, guardo en un DF la información relevante\n",
    "base_plot = base2019_clean\n",
    "base_plot['label'] = labels_final[6]\n",
    "base_plot.head(5)"
   ]
  },
  {
   "cell_type": "code",
   "execution_count": 73,
   "metadata": {},
   "outputs": [],
   "source": [
    "base_plot.to_csv('/Users/fer/Downloads/DATASCIENCE/CLUSTER AI/GRUPO TP/SUACI/base_plot.csv')"
   ]
  },
  {
   "cell_type": "code",
   "execution_count": 77,
   "metadata": {},
   "outputs": [],
   "source": [
    "#llegamos a 104 clusters y parece que podemos probar algunos más\n",
    "#ojo con la aparición de minimos locales"
   ]
  },
  {
   "cell_type": "code",
   "execution_count": null,
   "metadata": {},
   "outputs": [],
   "source": []
  },
  {
   "cell_type": "code",
   "execution_count": null,
   "metadata": {},
   "outputs": [],
   "source": [
    "BBox = (base2019_dummies.lat.min(), base2019_dummies.lat.max(), base2019_dummies.long.min(), base2019_dummies.long.max())"
   ]
  },
  {
   "cell_type": "code",
   "execution_count": null,
   "metadata": {},
   "outputs": [],
   "source": [
    "BBox"
   ]
  },
  {
   "cell_type": "code",
   "execution_count": null,
   "metadata": {},
   "outputs": [],
   "source": [
    "#importamos el mapa\n",
    "mapa = plt.imread('/Users/fer/Downloads/DATASCIENCE/CLUSTER AI/GRUPO TP/SUACI/mapa-CABA.png')"
   ]
  },
  {
   "cell_type": "code",
   "execution_count": null,
   "metadata": {},
   "outputs": [],
   "source": [
    "#plot contactos\n",
    "fig, ax = plt.subplots(figsize = (10,12))\n",
    "ax.scatter(base2019_dummies.long, base2019_dummies.lat, zorder=1, alpha= 0.2, c='b', s=10)\n",
    "ax.set_title('Distribucion contactos al SUACI 2019')\n",
    "ax.set_xlim(BBox[2],BBox[3])\n",
    "ax.set_ylim(BBox[0],BBox[1])\n",
    "#ax.imshow(mapa, zorder=0, extent = BBox, aspect= 'equal')\n",
    "plt.imshow(mapa, zorder=0, extent = BBox, aspect= 'equal')\n",
    "plt.show()"
   ]
  },
  {
   "cell_type": "code",
   "execution_count": null,
   "metadata": {},
   "outputs": [],
   "source": [
    "#  plot contactos, con distinción del cluster\n",
    "plt.figure(figsize = (10,12))\n",
    "sns.scatterplot(base2019_dummies.long, base2019_dummies.lat, hue = base2019_dummies.label, palette = 'Set2')\n",
    "plt.show()"
   ]
  },
  {
   "cell_type": "code",
   "execution_count": null,
   "metadata": {},
   "outputs": [],
   "source": []
  }
 ],
 "metadata": {
  "kernelspec": {
   "display_name": "Python 3",
   "language": "python",
   "name": "python3"
  },
  "language_info": {
   "codemirror_mode": {
    "name": "ipython",
    "version": 3
   },
   "file_extension": ".py",
   "mimetype": "text/x-python",
   "name": "python",
   "nbconvert_exporter": "python",
   "pygments_lexer": "ipython3",
   "version": "3.7.3"
  }
 },
 "nbformat": 4,
 "nbformat_minor": 2
}
